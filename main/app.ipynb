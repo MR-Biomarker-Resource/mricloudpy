{
 "cells": [
  {
   "cell_type": "code",
   "execution_count": 7,
   "metadata": {},
   "outputs": [
    {
     "data": {
      "application/javascript": "(function(root) {\n  function now() {\n    return new Date();\n  }\n\n  var force = true;\n  var py_version = '3.1.1'.replace('rc', '-rc.').replace('.dev', '-dev.');\n  var is_dev = py_version.indexOf(\"+\") !== -1 || py_version.indexOf(\"-\") !== -1;\n  var reloading = false;\n  var Bokeh = root.Bokeh;\n  var bokeh_loaded = Bokeh != null && (Bokeh.version === py_version || (Bokeh.versions !== undefined && Bokeh.versions.has(py_version)));\n\n  if (typeof (root._bokeh_timeout) === \"undefined\" || force) {\n    root._bokeh_timeout = Date.now() + 5000;\n    root._bokeh_failed_load = false;\n  }\n\n  function run_callbacks() {\n    try {\n      root._bokeh_onload_callbacks.forEach(function(callback) {\n        if (callback != null)\n          callback();\n      });\n    } finally {\n      delete root._bokeh_onload_callbacks;\n    }\n    console.debug(\"Bokeh: all callbacks have finished\");\n  }\n\n  function load_libs(css_urls, js_urls, js_modules, js_exports, callback) {\n    if (css_urls == null) css_urls = [];\n    if (js_urls == null) js_urls = [];\n    if (js_modules == null) js_modules = [];\n    if (js_exports == null) js_exports = {};\n\n    root._bokeh_onload_callbacks.push(callback);\n\n    if (root._bokeh_is_loading > 0) {\n      console.debug(\"Bokeh: BokehJS is being loaded, scheduling callback at\", now());\n      return null;\n    }\n    if (js_urls.length === 0 && js_modules.length === 0 && Object.keys(js_exports).length === 0) {\n      run_callbacks();\n      return null;\n    }\n    if (!reloading) {\n      console.debug(\"Bokeh: BokehJS not loaded, scheduling load and callback at\", now());\n    }\n\n    function on_load() {\n      root._bokeh_is_loading--;\n      if (root._bokeh_is_loading === 0) {\n        console.debug(\"Bokeh: all BokehJS libraries/stylesheets loaded\");\n        run_callbacks()\n      }\n    }\n    window._bokeh_on_load = on_load\n\n    function on_error() {\n      console.error(\"failed to load \" + url);\n    }\n\n    var skip = [];\n    if (window.requirejs) {\n      window.requirejs.config({'packages': {}, 'paths': {'plotly': 'https://cdn.plot.ly/plotly-2.18.0.min', 'tabulator': 'https://cdn.jsdelivr.net/npm/tabulator-tables@5.4.4/dist/js/tabulator', 'moment': 'https://cdn.jsdelivr.net/npm/luxon/build/global/luxon.min', 'jspanel': 'https://cdn.jsdelivr.net/npm/jspanel4@4.12.0/dist/jspanel', 'jspanel-modal': 'https://cdn.jsdelivr.net/npm/jspanel4@4.12.0/dist/extensions/modal/jspanel.modal', 'jspanel-tooltip': 'https://cdn.jsdelivr.net/npm/jspanel4@4.12.0/dist/extensions/tooltip/jspanel.tooltip', 'jspanel-hint': 'https://cdn.jsdelivr.net/npm/jspanel4@4.12.0/dist/extensions/hint/jspanel.hint', 'jspanel-layout': 'https://cdn.jsdelivr.net/npm/jspanel4@4.12.0/dist/extensions/layout/jspanel.layout', 'jspanel-contextmenu': 'https://cdn.jsdelivr.net/npm/jspanel4@4.12.0/dist/extensions/contextmenu/jspanel.contextmenu', 'jspanel-dock': 'https://cdn.jsdelivr.net/npm/jspanel4@4.12.0/dist/extensions/dock/jspanel.dock', 'gridstack': 'https://cdn.jsdelivr.net/npm/gridstack@7.2.3/dist/gridstack-all', 'notyf': 'https://cdn.jsdelivr.net/npm/notyf@3/notyf.min'}, 'shim': {'jspanel': {'exports': 'jsPanel'}, 'gridstack': {'exports': 'GridStack'}}});\n      require([\"plotly\"], function(Plotly) {\n\twindow.Plotly = Plotly\n\ton_load()\n      })\n      require([\"tabulator\"], function(Tabulator) {\n\twindow.Tabulator = Tabulator\n\ton_load()\n      })\n      require([\"moment\"], function(moment) {\n\twindow.moment = moment\n\ton_load()\n      })\n      require([\"jspanel\"], function(jsPanel) {\n\twindow.jsPanel = jsPanel\n\ton_load()\n      })\n      require([\"jspanel-modal\"], function() {\n\ton_load()\n      })\n      require([\"jspanel-tooltip\"], function() {\n\ton_load()\n      })\n      require([\"jspanel-hint\"], function() {\n\ton_load()\n      })\n      require([\"jspanel-layout\"], function() {\n\ton_load()\n      })\n      require([\"jspanel-contextmenu\"], function() {\n\ton_load()\n      })\n      require([\"jspanel-dock\"], function() {\n\ton_load()\n      })\n      require([\"gridstack\"], function(GridStack) {\n\twindow.GridStack = GridStack\n\ton_load()\n      })\n      require([\"notyf\"], function() {\n\ton_load()\n      })\n      root._bokeh_is_loading = css_urls.length + 12;\n    } else {\n      root._bokeh_is_loading = css_urls.length + js_urls.length + js_modules.length + Object.keys(js_exports).length;\n    }\n\n    var existing_stylesheets = []\n    var links = document.getElementsByTagName('link')\n    for (var i = 0; i < links.length; i++) {\n      var link = links[i]\n      if (link.href != null) {\n\texisting_stylesheets.push(link.href)\n      }\n    }\n    for (var i = 0; i < css_urls.length; i++) {\n      var url = css_urls[i];\n      if (existing_stylesheets.indexOf(url) !== -1) {\n\ton_load()\n\tcontinue;\n      }\n      const element = document.createElement(\"link\");\n      element.onload = on_load;\n      element.onerror = on_error;\n      element.rel = \"stylesheet\";\n      element.type = \"text/css\";\n      element.href = url;\n      console.debug(\"Bokeh: injecting link tag for BokehJS stylesheet: \", url);\n      document.body.appendChild(element);\n    }    if (((window['Plotly'] !== undefined) && (!(window['Plotly'] instanceof HTMLElement))) || window.requirejs) {\n      var urls = ['https://cdn.holoviz.org/panel/1.1.1/dist/bundled/plotlyplot/plotly-2.18.0.min.js'];\n      for (var i = 0; i < urls.length; i++) {\n        skip.push(urls[i])\n      }\n    }    if (((window['Tabulator'] !== undefined) && (!(window['Tabulator'] instanceof HTMLElement))) || window.requirejs) {\n      var urls = ['https://cdn.holoviz.org/panel/1.1.1/dist/bundled/datatabulator/tabulator-tables@5.4.4/dist/js/tabulator.js'];\n      for (var i = 0; i < urls.length; i++) {\n        skip.push(urls[i])\n      }\n    }    if (((window['moment'] !== undefined) && (!(window['moment'] instanceof HTMLElement))) || window.requirejs) {\n      var urls = ['https://cdn.holoviz.org/panel/1.1.1/dist/bundled/datatabulator/luxon/build/global/luxon.min.js'];\n      for (var i = 0; i < urls.length; i++) {\n        skip.push(urls[i])\n      }\n    }    if (((window['jsPanel'] !== undefined) && (!(window['jsPanel'] instanceof HTMLElement))) || window.requirejs) {\n      var urls = ['https://cdn.holoviz.org/panel/1.1.1/dist/bundled/floatpanel/jspanel4@4.12.0/dist/jspanel.js', 'https://cdn.holoviz.org/panel/1.1.1/dist/bundled/floatpanel/jspanel4@4.12.0/dist/extensions/modal/jspanel.modal.js', 'https://cdn.holoviz.org/panel/1.1.1/dist/bundled/floatpanel/jspanel4@4.12.0/dist/extensions/tooltip/jspanel.tooltip.js', 'https://cdn.holoviz.org/panel/1.1.1/dist/bundled/floatpanel/jspanel4@4.12.0/dist/extensions/hint/jspanel.hint.js', 'https://cdn.holoviz.org/panel/1.1.1/dist/bundled/floatpanel/jspanel4@4.12.0/dist/extensions/layout/jspanel.layout.js', 'https://cdn.holoviz.org/panel/1.1.1/dist/bundled/floatpanel/jspanel4@4.12.0/dist/extensions/contextmenu/jspanel.contextmenu.js', 'https://cdn.holoviz.org/panel/1.1.1/dist/bundled/floatpanel/jspanel4@4.12.0/dist/extensions/dock/jspanel.dock.js'];\n      for (var i = 0; i < urls.length; i++) {\n        skip.push(urls[i])\n      }\n    }    if (((window['GridStack'] !== undefined) && (!(window['GridStack'] instanceof HTMLElement))) || window.requirejs) {\n      var urls = ['https://cdn.holoviz.org/panel/1.1.1/dist/bundled/gridstack/gridstack@7.2.3/dist/gridstack-all.js'];\n      for (var i = 0; i < urls.length; i++) {\n        skip.push(urls[i])\n      }\n    }    if (((window['Notyf'] !== undefined) && (!(window['Notyf'] instanceof HTMLElement))) || window.requirejs) {\n      var urls = ['https://cdn.holoviz.org/panel/1.1.1/dist/bundled/notificationarea/notyf@3/notyf.min.js'];\n      for (var i = 0; i < urls.length; i++) {\n        skip.push(urls[i])\n      }\n    }    var existing_scripts = []\n    var scripts = document.getElementsByTagName('script')\n    for (var i = 0; i < scripts.length; i++) {\n      var script = scripts[i]\n      if (script.src != null) {\n\texisting_scripts.push(script.src)\n      }\n    }\n    for (var i = 0; i < js_urls.length; i++) {\n      var url = js_urls[i];\n      if (skip.indexOf(url) !== -1 || existing_scripts.indexOf(url) !== -1) {\n\tif (!window.requirejs) {\n\t  on_load();\n\t}\n\tcontinue;\n      }\n      var element = document.createElement('script');\n      element.onload = on_load;\n      element.onerror = on_error;\n      element.async = false;\n      element.src = url;\n      console.debug(\"Bokeh: injecting script tag for BokehJS library: \", url);\n      document.head.appendChild(element);\n    }\n    for (var i = 0; i < js_modules.length; i++) {\n      var url = js_modules[i];\n      if (skip.indexOf(url) !== -1 || existing_scripts.indexOf(url) !== -1) {\n\tif (!window.requirejs) {\n\t  on_load();\n\t}\n\tcontinue;\n      }\n      var element = document.createElement('script');\n      element.onload = on_load;\n      element.onerror = on_error;\n      element.async = false;\n      element.src = url;\n      element.type = \"module\";\n      console.debug(\"Bokeh: injecting script tag for BokehJS library: \", url);\n      document.head.appendChild(element);\n    }\n    for (const name in js_exports) {\n      var url = js_exports[name];\n      if (skip.indexOf(url) >= 0 || root[name] != null) {\n\tif (!window.requirejs) {\n\t  on_load();\n\t}\n\tcontinue;\n      }\n      var element = document.createElement('script');\n      element.onerror = on_error;\n      element.async = false;\n      element.type = \"module\";\n      console.debug(\"Bokeh: injecting script tag for BokehJS library: \", url);\n      element.textContent = `\n      import ${name} from \"${url}\"\n      window.${name} = ${name}\n      window._bokeh_on_load()\n      `\n      document.head.appendChild(element);\n    }\n    if (!js_urls.length && !js_modules.length) {\n      on_load()\n    }\n  };\n\n  function inject_raw_css(css) {\n    const element = document.createElement(\"style\");\n    element.appendChild(document.createTextNode(css));\n    document.body.appendChild(element);\n  }\n\n  var js_urls = [\"https://cdn.holoviz.org/panel/1.1.1/dist/bundled/jquery/jquery.slim.min.js\", \"https://cdn.holoviz.org/panel/1.1.1/dist/bundled/plotlyplot/plotly-2.18.0.min.js\", \"https://cdn.holoviz.org/panel/1.1.1/dist/bundled/datatabulator/tabulator-tables@5.4.4/dist/js/tabulator.js\", \"https://cdn.holoviz.org/panel/1.1.1/dist/bundled/datatabulator/luxon/build/global/luxon.min.js\", \"https://cdn.bokeh.org/bokeh/release/bokeh-3.1.1.min.js\", \"https://cdn.bokeh.org/bokeh/release/bokeh-gl-3.1.1.min.js\", \"https://cdn.bokeh.org/bokeh/release/bokeh-widgets-3.1.1.min.js\", \"https://cdn.bokeh.org/bokeh/release/bokeh-tables-3.1.1.min.js\", \"https://cdn.holoviz.org/panel/1.1.1/dist/panel.min.js\"];\n  var js_modules = [];\n  var js_exports = {};\n  var css_urls = [\"https://cdn.holoviz.org/panel/1.1.1/dist/bundled/datatabulator/tabulator-tables@5.4.4/dist/css/tabulator_bootstrap4.min.css\"];\n  var inline_js = [    function(Bokeh) {\n      inject_raw_css(\".tabulator{position:relative;border:1px solid #dee2e6;font-size:16px;text-align:left;overflow:hidden;-webkit-transform:translateZ(0);-moz-transform:translateZ(0);-ms-transform:translateZ(0);-o-transform:translateZ(0);transform:translateZ(0)}.tabulator[tabulator-layout=fitDataFill] .tabulator-tableholder .tabulator-table{min-width:100%}.tabulator[tabulator-layout=fitDataTable]{display:inline-block}.tabulator.tabulator-block-select{user-select:none}.tabulator .tabulator-header{position:relative;box-sizing:border-box;width:100%;border-bottom:1px solid #dee2e6;background-color:#fff;color:#555;font-weight:700;white-space:nowrap;overflow:hidden;-moz-user-select:none;-khtml-user-select:none;-webkit-user-select:none;-o-user-select:none}.tabulator .tabulator-header.tabulator-header-hidden{display:none}.tabulator .tabulator-header .tabulator-header-contents{position:relative;overflow:hidden}.tabulator .tabulator-header .tabulator-header-contents .tabulator-headers{display:inline-block}.tabulator .tabulator-header .tabulator-col{display:inline-flex;position:relative;box-sizing:border-box;flex-direction:column;justify-content:flex-start;border-right:1px solid #aaa;background:#fff;text-align:left;vertical-align:bottom;overflow:hidden}.tabulator .tabulator-header .tabulator-col.tabulator-moving{position:absolute;border:1px solid #dee2e6;background:#e6e6e6;pointer-events:none}.tabulator .tabulator-header .tabulator-col .tabulator-col-content{box-sizing:border-box;position:relative;padding:4px}.tabulator .tabulator-header .tabulator-col .tabulator-col-content .tabulator-header-popup-button{padding:0 8px}.tabulator .tabulator-header .tabulator-col .tabulator-col-content .tabulator-header-popup-button:hover{cursor:pointer;opacity:.6}.tabulator .tabulator-header .tabulator-col .tabulator-col-content .tabulator-col-title-holder{position:relative}.tabulator .tabulator-header .tabulator-col .tabulator-col-content .tabulator-col-title{box-sizing:border-box;width:100%;white-space:nowrap;overflow:hidden;text-overflow:ellipsis;vertical-align:bottom}.tabulator .tabulator-header .tabulator-col .tabulator-col-content .tabulator-col-title.tabulator-col-title-wrap{white-space:normal;text-overflow:clip}.tabulator .tabulator-header .tabulator-col .tabulator-col-content .tabulator-col-title .tabulator-title-editor{box-sizing:border-box;width:100%;border:1px solid #999;padding:1px;background:#fff}.tabulator .tabulator-header .tabulator-col .tabulator-col-content .tabulator-col-title .tabulator-header-popup-button+.tabulator-title-editor{width:calc(100% - 22px)}.tabulator .tabulator-header .tabulator-col .tabulator-col-content .tabulator-col-sorter{display:flex;align-items:center;position:absolute;top:0;bottom:0;right:4px}.tabulator .tabulator-header .tabulator-col .tabulator-col-content .tabulator-col-sorter .tabulator-arrow{width:0;height:0;border-left:6px solid transparent;border-right:6px solid transparent;border-bottom:6px solid #bbb}.tabulator .tabulator-header .tabulator-col.tabulator-col-group .tabulator-col-group-cols{position:relative;display:flex;border-top:1px solid #aaa;overflow:hidden;margin-right:-1px}.tabulator .tabulator-header .tabulator-col .tabulator-header-filter{position:relative;box-sizing:border-box;margin-top:2px;width:100%;text-align:center}.tabulator .tabulator-header .tabulator-col .tabulator-header-filter textarea{height:auto!important}.tabulator .tabulator-header .tabulator-col .tabulator-header-filter svg{margin-top:3px}.tabulator .tabulator-header .tabulator-col .tabulator-header-filter input::-ms-clear{width:0;height:0}.tabulator .tabulator-header .tabulator-col.tabulator-sortable .tabulator-col-title{padding-right:25px}.tabulator .tabulator-header .tabulator-col.tabulator-sortable.tabulator-col-sorter-element:hover{cursor:pointer;background-color:#e6e6e6}.tabulator .tabulator-header .tabulator-col.tabulator-sortable[aria-sort=none] .tabulator-col-content .tabulator-col-sorter{color:#bbb}.tabulator .tabulator-header .tabulator-col.tabulator-sortable[aria-sort=none] .tabulator-col-content .tabulator-col-sorter.tabulator-col-sorter-element .tabulator-arrow:hover{cursor:pointer;border-bottom:6px solid #555}.tabulator .tabulator-header .tabulator-col.tabulator-sortable[aria-sort=none] .tabulator-col-content .tabulator-col-sorter .tabulator-arrow{border-top:none;border-bottom:6px solid #bbb}.tabulator .tabulator-header .tabulator-col.tabulator-sortable[aria-sort=ascending] .tabulator-col-content .tabulator-col-sorter{color:#666}.tabulator .tabulator-header .tabulator-col.tabulator-sortable[aria-sort=ascending] .tabulator-col-content .tabulator-col-sorter.tabulator-col-sorter-element .tabulator-arrow:hover{cursor:pointer;border-bottom:6px solid #555}.tabulator .tabulator-header .tabulator-col.tabulator-sortable[aria-sort=ascending] .tabulator-col-content .tabulator-col-sorter .tabulator-arrow{border-top:none;border-bottom:6px solid #666}.tabulator .tabulator-header .tabulator-col.tabulator-sortable[aria-sort=descending] .tabulator-col-content .tabulator-col-sorter{color:#666}.tabulator .tabulator-header .tabulator-col.tabulator-sortable[aria-sort=descending] .tabulator-col-content .tabulator-col-sorter.tabulator-col-sorter-element .tabulator-arrow:hover{cursor:pointer;border-top:6px solid #555}.tabulator .tabulator-header .tabulator-col.tabulator-sortable[aria-sort=descending] .tabulator-col-content .tabulator-col-sorter .tabulator-arrow{border-bottom:none;border-top:6px solid #666;color:#666}.tabulator .tabulator-header .tabulator-col.tabulator-col-vertical .tabulator-col-content .tabulator-col-title{writing-mode:vertical-rl;text-orientation:mixed;display:flex;align-items:center;justify-content:center}.tabulator .tabulator-header .tabulator-col.tabulator-col-vertical.tabulator-col-vertical-flip .tabulator-col-title{transform:rotate(180deg)}.tabulator .tabulator-header .tabulator-col.tabulator-col-vertical.tabulator-sortable .tabulator-col-title{padding-right:0;padding-top:20px}.tabulator .tabulator-header .tabulator-col.tabulator-col-vertical.tabulator-sortable.tabulator-col-vertical-flip .tabulator-col-title{padding-right:0;padding-bottom:20px}.tabulator .tabulator-header .tabulator-col.tabulator-col-vertical.tabulator-sortable .tabulator-col-sorter{justify-content:center;left:0;right:0;top:4px;bottom:auto}.tabulator .tabulator-header .tabulator-frozen{position:sticky;left:0;z-index:10}.tabulator .tabulator-header .tabulator-frozen.tabulator-frozen-left{border-right:2px solid #dee2e6}.tabulator .tabulator-header .tabulator-frozen.tabulator-frozen-right{border-left:2px solid #dee2e6}.tabulator .tabulator-header .tabulator-calcs-holder{box-sizing:border-box;background:#fff!important;border-top:1px solid #dee2e6;border-bottom:1px solid #aaa}.tabulator .tabulator-header .tabulator-calcs-holder .tabulator-row{background:#fff!important}.tabulator .tabulator-header .tabulator-calcs-holder .tabulator-row .tabulator-col-resize-handle,.tabulator .tabulator-header .tabulator-frozen-rows-holder:empty{display:none}.tabulator .tabulator-tableholder{position:relative;width:100%;white-space:nowrap;overflow:auto;-webkit-overflow-scrolling:touch}.tabulator .tabulator-tableholder:focus{outline:none}.tabulator .tabulator-tableholder .tabulator-placeholder{box-sizing:border-box;display:flex;align-items:center;justify-content:center;width:100%}.tabulator .tabulator-tableholder .tabulator-placeholder[tabulator-render-mode=virtual]{min-height:100%;min-width:100%}.tabulator .tabulator-tableholder .tabulator-placeholder .tabulator-placeholder-contents{display:inline-block;text-align:center;padding:10px;color:#ccc;font-weight:700;font-size:20px;white-space:normal}.tabulator .tabulator-tableholder .tabulator-table{position:relative;display:inline-block;background-color:#fff;white-space:nowrap;overflow:visible;color:#333}.tabulator .tabulator-tableholder .tabulator-table .tabulator-row.tabulator-calcs{font-weight:700;background:#ececec!important}.tabulator .tabulator-tableholder .tabulator-table .tabulator-row.tabulator-calcs.tabulator-calcs-top{border-bottom:2px solid #dee2e6}.tabulator .tabulator-tableholder .tabulator-table .tabulator-row.tabulator-calcs.tabulator-calcs-bottom{border-top:2px solid #dee2e6}.tabulator .tabulator-footer{border-top:1px solid #dee2e6;background-color:#e6e6e6;color:#555;font-weight:700;white-space:nowrap;user-select:none;-moz-user-select:none;-khtml-user-select:none;-webkit-user-select:none;-o-user-select:none}.tabulator .tabulator-footer .tabulator-footer-contents{display:flex;flex-direction:row;align-items:center;justify-content:space-between;padding:5px 10px}.tabulator .tabulator-footer .tabulator-footer-contents:empty{display:none}.tabulator .tabulator-footer .tabulator-calcs-holder{box-sizing:border-box;width:100%;text-align:left;background:#f3f3f3!important;border-bottom:1px solid #dee2e6;border-top:1px solid #dee2e6;overflow:hidden}.tabulator .tabulator-footer .tabulator-calcs-holder .tabulator-row{display:inline-block;background:#f3f3f3!important}.tabulator .tabulator-footer .tabulator-calcs-holder .tabulator-row .tabulator-col-resize-handle{display:none}.tabulator .tabulator-footer .tabulator-calcs-holder:only-child{margin-bottom:-5px;border-bottom:none}.tabulator .tabulator-footer>*+.tabulator-page-counter{margin-left:10px}.tabulator .tabulator-footer .tabulator-page-counter{font-weight:400}.tabulator .tabulator-footer .tabulator-paginator{flex:1;text-align:right;color:#555;font-family:inherit;font-weight:inherit;font-size:inherit}.tabulator .tabulator-footer .tabulator-page-size{display:inline-block;margin:0 5px;padding:2px 5px;border:1px solid #dee2e6;border-radius:3px}.tabulator .tabulator-footer .tabulator-pages{margin:0 7px}.tabulator .tabulator-footer .tabulator-page{display:inline-block;margin:0 2px;padding:2px 5px;border:1px solid #dee2e6;border-radius:3px;background:hsla(0,0%,100%,.2)}.tabulator .tabulator-footer .tabulator-page:disabled{opacity:.5}.tabulator .tabulator-footer .tabulator-page:not(.disabled):hover{cursor:pointer;background:rgba(0,0,0,.2);color:#fff}.tabulator .tabulator-col-resize-handle{position:relative;display:inline-block;width:6px;margin-left:-3px;margin-right:-3px;z-index:10;vertical-align:middle}.tabulator .tabulator-col-resize-handle:hover{cursor:ew-resize}.tabulator .tabulator-col-resize-handle:last-of-type{width:3px;margin-right:0}.tabulator .tabulator-alert{position:absolute;display:flex;align-items:center;top:0;left:0;z-index:100;height:100%;width:100%;background:rgba(0,0,0,.4);text-align:center}.tabulator .tabulator-alert .tabulator-alert-msg{display:inline-block;margin:0 auto;padding:10px 20px;border-radius:10px;background:#fff;font-weight:700;font-size:16px}.tabulator .tabulator-alert .tabulator-alert-msg.tabulator-alert-state-msg{border:4px solid #333;color:#000}.tabulator .tabulator-alert .tabulator-alert-msg.tabulator-alert-state-error{border:4px solid #d00;color:#590000}.tabulator-row{position:relative;box-sizing:border-box;min-height:24px;background-color:#fff}.tabulator-row.tabulator-row-even{background-color:#f9f9f9}.tabulator-row.tabulator-selectable:hover{background-color:#f5f5f5;cursor:pointer}.tabulator-row.tabulator-selected{background-color:#9abcea}.tabulator-row.tabulator-selected:hover{background-color:#769bcc;cursor:pointer}.tabulator-row.tabulator-row-moving{border:1px solid #000;background:#fff}.tabulator-row.tabulator-moving{position:absolute;border-top:1px solid #dee2e6;border-bottom:1px solid #dee2e6;pointer-events:none;z-index:15}.tabulator-row .tabulator-row-resize-handle{position:absolute;right:0;bottom:0;left:0;height:5px}.tabulator-row .tabulator-row-resize-handle.prev{top:0;bottom:auto}.tabulator-row .tabulator-row-resize-handle:hover{cursor:ns-resize}.tabulator-row .tabulator-responsive-collapse{box-sizing:border-box;padding:5px;border-top:1px solid #dee2e6;border-bottom:1px solid #dee2e6}.tabulator-row .tabulator-responsive-collapse:empty{display:none}.tabulator-row .tabulator-responsive-collapse table{font-size:16px}.tabulator-row .tabulator-responsive-collapse table tr td{position:relative}.tabulator-row .tabulator-responsive-collapse table tr td:first-of-type{padding-right:10px}.tabulator-row .tabulator-cell{display:inline-block;position:relative;box-sizing:border-box;padding:4px;border-right:1px solid #dee2e6;vertical-align:middle;white-space:nowrap;overflow:hidden;text-overflow:ellipsis}.tabulator-row .tabulator-cell.tabulator-frozen{display:inline-block;position:sticky;left:0;background-color:inherit;z-index:10}.tabulator-row .tabulator-cell.tabulator-frozen.tabulator-frozen-left{border-right:2px solid #dee2e6}.tabulator-row .tabulator-cell.tabulator-frozen.tabulator-frozen-right{border-left:2px solid #dee2e6}.tabulator-row .tabulator-cell.tabulator-editing{border:1px solid #1d68cd;outline:none;padding:0}.tabulator-row .tabulator-cell.tabulator-editing input,.tabulator-row .tabulator-cell.tabulator-editing select{border:1px;background:transparent;outline:none}.tabulator-row .tabulator-cell.tabulator-validation-fail{border:1px solid #d00}.tabulator-row .tabulator-cell.tabulator-validation-fail input,.tabulator-row .tabulator-cell.tabulator-validation-fail select{border:1px;background:transparent;color:#d00}.tabulator-row .tabulator-cell.tabulator-row-handle{display:inline-flex;align-items:center;justify-content:center;-moz-user-select:none;-khtml-user-select:none;-webkit-user-select:none;-o-user-select:none}.tabulator-row .tabulator-cell.tabulator-row-handle .tabulator-row-handle-box{width:80%}.tabulator-row .tabulator-cell.tabulator-row-handle .tabulator-row-handle-box .tabulator-row-handle-bar{width:100%;height:3px;margin-top:2px;background:#666}.tabulator-row .tabulator-cell .tabulator-data-tree-branch{display:inline-block;vertical-align:middle;height:9px;width:7px;margin-top:-9px;margin-right:5px;border-bottom-left-radius:1px;border-left:2px solid #dee2e6;border-bottom:2px solid #dee2e6}.tabulator-row .tabulator-cell .tabulator-data-tree-control{display:inline-flex;justify-content:center;align-items:center;vertical-align:middle;height:11px;width:11px;margin-right:5px;border:1px solid #333;border-radius:2px;background:rgba(0,0,0,.1);overflow:hidden}.tabulator-row .tabulator-cell .tabulator-data-tree-control:hover{cursor:pointer;background:rgba(0,0,0,.2)}.tabulator-row .tabulator-cell .tabulator-data-tree-control .tabulator-data-tree-control-collapse{display:inline-block;position:relative;height:7px;width:1px;background:transparent}.tabulator-row .tabulator-cell .tabulator-data-tree-control .tabulator-data-tree-control-collapse:after{position:absolute;content:\\\"\\\";left:-3px;top:3px;height:1px;width:7px;background:#333}.tabulator-row .tabulator-cell .tabulator-data-tree-control .tabulator-data-tree-control-expand{display:inline-block;position:relative;height:7px;width:1px;background:#333}.tabulator-row .tabulator-cell .tabulator-data-tree-control .tabulator-data-tree-control-expand:after{position:absolute;content:\\\"\\\";left:-3px;top:3px;height:1px;width:7px;background:#333}.tabulator-row .tabulator-cell .tabulator-responsive-collapse-toggle{display:inline-flex;align-items:center;justify-content:center;-moz-user-select:none;-khtml-user-select:none;-webkit-user-select:none;-o-user-select:none;height:15px;width:15px;border-radius:20px;background:#666;color:#fff;font-weight:700;font-size:1.1em}.tabulator-row .tabulator-cell .tabulator-responsive-collapse-toggle:hover{opacity:.7;cursor:pointer}.tabulator-row .tabulator-cell .tabulator-responsive-collapse-toggle.open .tabulator-responsive-collapse-toggle-close{display:initial}.tabulator-row .tabulator-cell .tabulator-responsive-collapse-toggle.open .tabulator-responsive-collapse-toggle-open{display:none}.tabulator-row .tabulator-cell .tabulator-responsive-collapse-toggle svg{stroke:#fff}.tabulator-row .tabulator-cell .tabulator-responsive-collapse-toggle .tabulator-responsive-collapse-toggle-close{display:none}.tabulator-row .tabulator-cell .tabulator-traffic-light{display:inline-block;height:14px;width:14px;border-radius:14px}.tabulator-row.tabulator-group{box-sizing:border-box;border-bottom:1px solid #999;border-right:1px solid #dee2e6;border-top:1px solid #999;padding:5px 5px 5px 10px;background:#ccc;font-weight:700;min-width:100%}.tabulator-row.tabulator-group:hover{cursor:pointer;background-color:rgba(0,0,0,.1)}.tabulator-row.tabulator-group.tabulator-group-visible .tabulator-arrow{margin-right:10px;border-left:6px solid transparent;border-right:6px solid transparent;border-top:6px solid #666;border-bottom:0}.tabulator-row.tabulator-group.tabulator-group-level-1{padding-left:30px}.tabulator-row.tabulator-group.tabulator-group-level-2{padding-left:50px}.tabulator-row.tabulator-group.tabulator-group-level-3{padding-left:70px}.tabulator-row.tabulator-group.tabulator-group-level-4{padding-left:90px}.tabulator-row.tabulator-group.tabulator-group-level-5{padding-left:110px}.tabulator-row.tabulator-group .tabulator-group-toggle{display:inline-block}.tabulator-row.tabulator-group .tabulator-arrow{display:inline-block;width:0;height:0;margin-right:16px;border-top:6px solid transparent;border-bottom:6px solid transparent;border-right:0;border-left:6px solid #666;vertical-align:middle}.tabulator-row.tabulator-group span{margin-left:10px;color:#d00}.tabulator-popup-container{position:absolute;display:inline-block;box-sizing:border-box;background:#fff;border:1px solid #dee2e6;box-shadow:0 0 5px 0 rgba(0,0,0,.2);font-size:16px;overflow-y:auto;-webkit-overflow-scrolling:touch;z-index:10000}.tabulator-popup{padding:5px;border-radius:3px}.tabulator-tooltip{max-width:Min(500px,100%);padding:3px 5px;border-radius:2px;box-shadow:none;font-size:12px;pointer-events:none}.tabulator-menu .tabulator-menu-item{position:relative;box-sizing:border-box;padding:5px 10px;user-select:none}.tabulator-menu .tabulator-menu-item.tabulator-menu-item-disabled{opacity:.5}.tabulator-menu .tabulator-menu-item:not(.tabulator-menu-item-disabled):hover{cursor:pointer;background:#f9f9f9}.tabulator-menu .tabulator-menu-item.tabulator-menu-item-submenu{padding-right:25px}.tabulator-menu .tabulator-menu-item.tabulator-menu-item-submenu:after{display:inline-block;position:absolute;top:calc(5px + .4em);right:10px;height:7px;width:7px;content:\\\"\\\";border-color:#dee2e6;border-style:solid;border-width:1px 1px 0 0;vertical-align:top;transform:rotate(45deg)}.tabulator-menu .tabulator-menu-separator{border-top:1px solid #dee2e6}.tabulator-edit-list{max-height:200px;font-size:16px;overflow-y:auto;-webkit-overflow-scrolling:touch}.tabulator-edit-list .tabulator-edit-list-item{padding:4px;color:#333;outline:none}.tabulator-edit-list .tabulator-edit-list-item.active{color:#fff;background:#1d68cd}.tabulator-edit-list .tabulator-edit-list-item.active.focused{outline:1px solid hsla(0,0%,100%,.5)}.tabulator-edit-list .tabulator-edit-list-item.focused{outline:1px solid #1d68cd}.tabulator-edit-list .tabulator-edit-list-item:hover{cursor:pointer;color:#fff;background:#1d68cd}.tabulator-edit-list .tabulator-edit-list-placeholder{padding:4px;color:#333;text-align:center}.tabulator-edit-list .tabulator-edit-list-group{border-bottom:1px solid #dee2e6;padding:6px 4px 4px;color:#333;font-weight:700}.tabulator-edit-list .tabulator-edit-list-group.tabulator-edit-list-group-level-2,.tabulator-edit-list .tabulator-edit-list-item.tabulator-edit-list-group-level-2{padding-left:12px}.tabulator-edit-list .tabulator-edit-list-group.tabulator-edit-list-group-level-3,.tabulator-edit-list .tabulator-edit-list-item.tabulator-edit-list-group-level-3{padding-left:20px}.tabulator-edit-list .tabulator-edit-list-group.tabulator-edit-list-group-level-4,.tabulator-edit-list .tabulator-edit-list-item.tabulator-edit-list-group-level-4{padding-left:28px}.tabulator-edit-list .tabulator-edit-list-group.tabulator-edit-list-group-level-5,.tabulator-edit-list .tabulator-edit-list-item.tabulator-edit-list-group-level-5{padding-left:36px}.tabulator.tabulator-ltr{direction:ltr}.tabulator.tabulator-rtl{text-align:initial;direction:rtl}.tabulator.tabulator-rtl .tabulator-header .tabulator-col{border-left:1px solid #aaa;border-right:initial}.tabulator.tabulator-rtl .tabulator-header .tabulator-col.tabulator-col-group .tabulator-col-group-cols{margin-right:0;margin-left:-1px}.tabulator.tabulator-rtl .tabulator-header .tabulator-col.tabulator-sortable .tabulator-col-title{padding-right:0;padding-left:25px}.tabulator.tabulator-rtl .tabulator-header .tabulator-col .tabulator-col-content .tabulator-col-sorter{left:8px;right:auto}.tabulator.tabulator-rtl .tabulator-row .tabulator-cell{border-right:initial;border-left:1px solid #dee2e6}.tabulator.tabulator-rtl .tabulator-row .tabulator-cell .tabulator-data-tree-branch{margin-right:0;margin-left:5px;border-bottom-left-radius:0;border-bottom-right-radius:1px;border-left:initial;border-right:2px solid #dee2e6}.tabulator.tabulator-rtl .tabulator-row .tabulator-cell .tabulator-data-tree-control{margin-right:0;margin-left:5px}.tabulator.tabulator-rtl .tabulator-row .tabulator-cell.tabulator-frozen.tabulator-frozen-left{border-left:2px solid #dee2e6}.tabulator.tabulator-rtl .tabulator-row .tabulator-cell.tabulator-frozen.tabulator-frozen-right{border-right:2px solid #dee2e6}.tabulator.tabulator-rtl .tabulator-row .tabulator-col-resize-handle:last-of-type{width:3px;margin-left:0;margin-right:-3px}.tabulator.tabulator-rtl .tabulator-footer .tabulator-calcs-holder{text-align:initial}.tabulator-print-fullscreen{position:absolute;top:0;bottom:0;left:0;right:0;z-index:10000}body.tabulator-print-fullscreen-hide>:not(.tabulator-print-fullscreen){display:none!important}.tabulator-print-table{border-collapse:collapse}.tabulator-print-table .tabulator-data-tree-branch{display:inline-block;vertical-align:middle;height:9px;width:7px;margin-top:-9px;margin-right:5px;border-bottom-left-radius:1px;border-left:2px solid #dee2e6;border-bottom:2px solid #dee2e6}.tabulator-print-table .tabulator-print-table-group{box-sizing:border-box;border-bottom:1px solid #999;border-right:1px solid #dee2e6;border-top:1px solid #999;padding:5px 5px 5px 10px;background:#ccc;font-weight:700;min-width:100%}.tabulator-print-table .tabulator-print-table-group:hover{cursor:pointer;background-color:rgba(0,0,0,.1)}.tabulator-print-table .tabulator-print-table-group.tabulator-group-visible .tabulator-arrow{margin-right:10px;border-left:6px solid transparent;border-right:6px solid transparent;border-top:6px solid #666;border-bottom:0}.tabulator-print-table .tabulator-print-table-group.tabulator-group-level-1 td{padding-left:30px!important}.tabulator-print-table .tabulator-print-table-group.tabulator-group-level-2 td{padding-left:50px!important}.tabulator-print-table .tabulator-print-table-group.tabulator-group-level-3 td{padding-left:70px!important}.tabulator-print-table .tabulator-print-table-group.tabulator-group-level-4 td{padding-left:90px!important}.tabulator-print-table .tabulator-print-table-group.tabulator-group-level-5 td{padding-left:110px!important}.tabulator-print-table .tabulator-print-table-group .tabulator-group-toggle{display:inline-block}.tabulator-print-table .tabulator-print-table-group .tabulator-arrow{display:inline-block;width:0;height:0;margin-right:16px;border-top:6px solid transparent;border-bottom:6px solid transparent;border-right:0;border-left:6px solid #666;vertical-align:middle}.tabulator-print-table .tabulator-print-table-group span{margin-left:10px;color:#d00}.tabulator-print-table .tabulator-data-tree-control{display:inline-flex;justify-content:center;align-items:center;vertical-align:middle;height:11px;width:11px;margin-right:5px;border:1px solid #333;border-radius:2px;background:rgba(0,0,0,.1);overflow:hidden}.tabulator-print-table .tabulator-data-tree-control:hover{cursor:pointer;background:rgba(0,0,0,.2)}.tabulator-print-table .tabulator-data-tree-control .tabulator-data-tree-control-collapse{display:inline-block;position:relative;height:7px;width:1px;background:transparent}.tabulator-print-table .tabulator-data-tree-control .tabulator-data-tree-control-collapse:after{position:absolute;content:\\\"\\\";left:-3px;top:3px;height:1px;width:7px;background:#333}.tabulator-print-table .tabulator-data-tree-control .tabulator-data-tree-control-expand{display:inline-block;position:relative;height:7px;width:1px;background:#333}.tabulator-print-table .tabulator-data-tree-control .tabulator-data-tree-control-expand:after{position:absolute;content:\\\"\\\";left:-3px;top:3px;height:1px;width:7px;background:#333}.tabulator{background-color:#fff;border:none}.tabulator .tabulator-header{border-top:1px solid #dee2e6;border-bottom:2px solid #dee2e6;color:inherit}.tabulator .tabulator-header .tabulator-col{border-right:none;background-color:#fff}.tabulator .tabulator-header .tabulator-col .tabulator-col-content{padding:12px}.tabulator .tabulator-header .tabulator-col .tabulator-col-content .tabulator-col-sorter{right:0}.tabulator .tabulator-header .tabulator-col.tabulator-col-group .tabulator-col-group-cols{border-top:1px solid #dee2e6}.tabulator .tabulator-header .tabulator-col .tabulator-header-filter input{padding:.375rem .75rem;background-color:#fff;background-clip:padding-box;border:1px solid #ced4da;border-radius:.25rem;transition:border-color .15s ease-in-out,box-shadow .15s ease-in-out;font-size:1rem;line-height:1.5;color:#495057}.tabulator .tabulator-header .tabulator-col .tabulator-header-filter input:focus{color:#495057;background-color:#fff;border:1px solid #1d68cd;outline:0}.tabulator .tabulator-header .tabulator-calcs-holder{width:100%;border-bottom:1px solid #dee2e6}.tabulator .tabulator-tableholder .tabulator-placeholder span{color:#000}.tabulator .tabulator-footer,.tabulator .tabulator-footer .tabulator-paginator,.tabulator .tabulator-tableholder .tabulator-table{color:inherit}.tabulator .tabulator-footer .tabulator-pages{margin:0}.tabulator .tabulator-footer .tabulator-page{margin:5px 0 0;padding:8px 12px}.tabulator .tabulator-footer .tabulator-page[data-page=first]{border-top-left-radius:4px;border-bottom-left-radius:4px}.tabulator .tabulator-footer .tabulator-page[data-page=last]{border:1px solid #dee2e6;border-top-right-radius:4px;border-bottom-right-radius:4px}.tabulator .tabulator-footer .tabulator-page.active{border-color:#007bff;background-color:#007bff;color:#fff}.tabulator .tabulator-footer .tabulator-page:disabled{border-color:#dee2e6;background:#fff;color:#6c757d}.tabulator .tabulator-footer .tabulator-page:not(.disabled):hover{border-color:#dee2e6;background:#e9ecef;color:#0056b3}.tabulator.thead-dark .tabulator-header,.tabulator.thead-dark .tabulator-header .tabulator-col{border-color:#32383e;background-color:#212529;color:#fff}.tabulator.table-dark{background-color:#212529}.tabulator.table-dark:not(.thead-light) .tabulator-header,.tabulator.table-dark:not(.thead-light) .tabulator-header .tabulator-col{border-color:#32383e;background-color:#212529;color:#fff}.tabulator.table-dark .tabulator-tableholder{color:#fff}.tabulator.table-dark .tabulator-row{border-color:#32383e;background-color:#212529;color:#fff}.tabulator.table-dark .tabulator-row:hover{background-color:#32383e}.tabulator.table-dark .tabulator-row:hover .tabulator-cell{background-color:hsla(0,0%,100%,.075)}.tabulator.table-dark .tabulator-row.tabulator-selected{background-color:#9abcea}.tabulator.table-dark .tabulator-footer{border-color:#32383e!important}.tabulator.table-dark .tabulator-footer .tabulator-calcs-holder{border-color:#32383e!important;background:#212529!important}.tabulator.table-dark .tabulator-footer .tabulator-calcs-holder .tabulator-row{border-color:#32383e!important;background-color:#212529!important;color:#fff!important}.tabulator.table-striped:not(.table-dark) .tabulator-row.tabulator-row-even{background-color:#f9f9f9}.tabulator.table-striped:not(.table-dark) .tabulator-row.tabulator-row-even.tabulator-selected{background-color:#9abcea}.tabulator.table-striped:not(.table-dark) .tabulator-row.tabulator-row-even.tabulator-selectable:hover{background-color:#f5f5f5;cursor:pointer}.tabulator.table-striped:not(.table-dark) .tabulator-row.tabulator-row-even.tabulator-selected:hover{background-color:#769bcc;cursor:pointer}.tabulator.table-striped.table-dark .tabulator-row:nth-child(2n) .tabulator-cell{background-color:hsla(0,0%,100%,.05)}.tabulator.table-bordered{border:1px solid #dee2e6}.tabulator.table-bordered .tabulator-header .tabulator-col,.tabulator.table-bordered .tabulator-tableholder .tabulator-table .tabulator-row .tabulator-cell{border-right:1px solid #dee2e6}.tabulator.table-borderless .tabulator-header,.tabulator.table-borderless .tabulator-row{border:none}.tabulator.table-sm .tabulator-header .tabulator-col .tabulator-col-content{padding:5px!important}.tabulator.table-sm .tabulator-tableholder .tabulator-table .tabulator-row{min-height:26px}.tabulator.table-sm .tabulator-tableholder .tabulator-table .tabulator-row .tabulator-cell{padding:5px!important}.tabulator .tabulator-tableholder .tabulator-table .tabulator-row.table-primary{background:#b8daff!important}.tabulator .tabulator-tableholder .tabulator-table .tabulator-row.table-secondary{background:#d6d8db!important}.tabulator .tabulator-tableholder .tabulator-table .tabulator-row.table-success{background:#c3e6cb!important}.tabulator .tabulator-tableholder .tabulator-table .tabulator-row.table-info{background:#bee5eb!important}.tabulator .tabulator-tableholder .tabulator-table .tabulator-row.table-warning{background:#ffeeba!important}.tabulator .tabulator-tableholder .tabulator-table .tabulator-row.table-danger{background:#f5c6cb!important}.tabulator .tabulator-tableholder .tabulator-table .tabulator-row.table-light{background:#fdfdfe!important}.tabulator .tabulator-tableholder .tabulator-table .tabulator-row.table-dark{background:#c6c8ca!important}.tabulator .tabulator-tableholder .tabulator-table .tabulator-row.table-active{background:#f5f5f5!important}.tabulator .tabulator-tableholder .tabulator-table .tabulator-row.bg-primary{background:#007bff!important}.tabulator .tabulator-tableholder .tabulator-table .tabulator-row.bg-secondary{background:#6c757d!important}.tabulator .tabulator-tableholder .tabulator-table .tabulator-row.bg-success{background:#28a745!important}.tabulator .tabulator-tableholder .tabulator-table .tabulator-row.bg-info{background:#17a2b8!important}.tabulator .tabulator-tableholder .tabulator-table .tabulator-row.bg-warning{background:#ffc107!important}.tabulator .tabulator-tableholder .tabulator-table .tabulator-row.bg-danger{background:#dc3545!important}.tabulator .tabulator-tableholder .tabulator-table .tabulator-row.bg-light{background:#f8f9fa!important}.tabulator .tabulator-tableholder .tabulator-table .tabulator-row.bg-dark{background:#343a40!important}.tabulator .tabulator-tableholder .tabulator-table .tabulator-row.bg-active{background:#f5f5f5!important}.tabulator .tabulator-tableholder .tabulator-table .tabulator-row .tabulator-cell.table-primary{background:#b8daff!important}.tabulator .tabulator-tableholder .tabulator-table .tabulator-row .tabulator-cell.table-secondary{background:#d6d8db!important}.tabulator .tabulator-tableholder .tabulator-table .tabulator-row .tabulator-cell.table-success{background:#c3e6cb!important}.tabulator .tabulator-tableholder .tabulator-table .tabulator-row .tabulator-cell.table-info{background:#bee5eb!important}.tabulator .tabulator-tableholder .tabulator-table .tabulator-row .tabulator-cell.table-warning{background:#ffeeba!important}.tabulator .tabulator-tableholder .tabulator-table .tabulator-row .tabulator-cell.table-danger{background:#f5c6cb!important}.tabulator .tabulator-tableholder .tabulator-table .tabulator-row .tabulator-cell.table-light{background:#fdfdfe!important}.tabulator .tabulator-tableholder .tabulator-table .tabulator-row .tabulator-cell.table-dark{background:#c6c8ca!important}.tabulator .tabulator-tableholder .tabulator-table .tabulator-row .tabulator-cell.table-active{background:#f5f5f5!important}.tabulator .tabulator-tableholder .tabulator-table .tabulator-row .tabulator-cell.bg-primary{background:#007bff!important}.tabulator .tabulator-tableholder .tabulator-table .tabulator-row .tabulator-cell.bg-secondary{background:#6c757d!important}.tabulator .tabulator-tableholder .tabulator-table .tabulator-row .tabulator-cell.bg-success{background:#28a745!important}.tabulator .tabulator-tableholder .tabulator-table .tabulator-row .tabulator-cell.bg-info{background:#17a2b8!important}.tabulator .tabulator-tableholder .tabulator-table .tabulator-row .tabulator-cell.bg-warning{background:#ffc107!important}.tabulator .tabulator-tableholder .tabulator-table .tabulator-row .tabulator-cell.bg-danger{background:#dc3545!important}.tabulator .tabulator-tableholder .tabulator-table .tabulator-row .tabulator-cell.bg-light{background:#f8f9fa!important}.tabulator .tabulator-tableholder .tabulator-table .tabulator-row .tabulator-cell.bg-dark{background:#343a40!important}.tabulator .tabulator-tableholder .tabulator-table .tabulator-row .tabulator-cell.bg-active{background:#f5f5f5!important}.tabulator-row{min-height:40px;border-bottom:1px solid #dee2e6}.tabulator-row .tabulator-cell{padding:12px;border-right:none}.tabulator-row .tabulator-cell:last-of-type{border-right:none}.tabulator-row .tabulator-cell .tabulator-data-tree-control{border:1px solid #ccc}.tabulator-row .tabulator-cell .tabulator-data-tree-control .tabulator-data-tree-control-collapse:after,.tabulator-row .tabulator-cell .tabulator-data-tree-control .tabulator-data-tree-control-expand,.tabulator-row .tabulator-cell .tabulator-data-tree-control .tabulator-data-tree-control-expand:after{background:#ccc}.tabulator-row.tabulator-group{background:#fafafa}.tabulator-row.tabulator-group span{color:#666}.tabulator-edit-select-list{background:#fff}.tabulator-edit-select-list .tabulator-edit-select-list-item.active{color:#fff}.tabulator-edit-select-list .tabulator-edit-select-list-item.active.focused{outline:1px solid hsla(0,0%,100%,.5)}.tabulator-edit-select-list .tabulator-edit-select-list-item:hover{color:#fff}.tabulator-edit-select-list .tabulator-edit-select-list-group,.tabulator-edit-select-list .tabulator-edit-select-list-notice{color:inherit}.tabulator.tabulator-rtl .tabulator-header .tabulator-col{text-align:initial;border-left:initial}.tabulator-print-table .tabulator-print-table-group{background:#fafafa}.tabulator-print-table .tabulator-print-table-group span{color:#666}.tabulator-print-table .tabulator-data-tree-control{color:inherit}.tabulator-print-table .tabulator-data-tree-control .tabulator-data-tree-control-collapse:after,.tabulator-print-table .tabulator-data-tree-control .tabulator-data-tree-control-expand,.tabulator-print-table .tabulator-data-tree-control .tabulator-data-tree-control-expand:after{background:#ccc}\\n/*# sourceMappingURL=tabulator_bootstrap4.min.css.map */\");\n    },    function(Bokeh) {\n      Bokeh.set_log_level(\"info\");\n    },\nfunction(Bokeh) {} // ensure no trailing comma for IE\n  ];\n\n  function run_inline_js() {\n    if ((root.Bokeh !== undefined) || (force === true)) {\n      for (var i = 0; i < inline_js.length; i++) {\n        inline_js[i].call(root, root.Bokeh);\n      }\n      // Cache old bokeh versions\n      if (Bokeh != undefined && !reloading) {\n\tvar NewBokeh = root.Bokeh;\n\tif (Bokeh.versions === undefined) {\n\t  Bokeh.versions = new Map();\n\t}\n\tif (NewBokeh.version !== Bokeh.version) {\n\t  Bokeh.versions.set(NewBokeh.version, NewBokeh)\n\t}\n\troot.Bokeh = Bokeh;\n      }} else if (Date.now() < root._bokeh_timeout) {\n      setTimeout(run_inline_js, 100);\n    } else if (!root._bokeh_failed_load) {\n      console.log(\"Bokeh: BokehJS failed to load within specified timeout.\");\n      root._bokeh_failed_load = true;\n    }\n    root._bokeh_is_initializing = false\n  }\n\n  function load_or_wait() {\n    // Implement a backoff loop that tries to ensure we do not load multiple\n    // versions of Bokeh and its dependencies at the same time.\n    // In recent versions we use the root._bokeh_is_initializing flag\n    // to determine whether there is an ongoing attempt to initialize\n    // bokeh, however for backward compatibility we also try to ensure\n    // that we do not start loading a newer (Panel>=1.0 and Bokeh>3) version\n    // before older versions are fully initialized.\n    if (root._bokeh_is_initializing && Date.now() > root._bokeh_timeout) {\n      root._bokeh_is_initializing = false;\n      root._bokeh_onload_callbacks = undefined;\n      console.log(\"Bokeh: BokehJS was loaded multiple times but one version failed to initialize.\");\n      load_or_wait();\n    } else if (root._bokeh_is_initializing || (typeof root._bokeh_is_initializing === \"undefined\" && root._bokeh_onload_callbacks !== undefined)) {\n      setTimeout(load_or_wait, 100);\n    } else {\n      Bokeh = root.Bokeh;\n      bokeh_loaded = Bokeh != null && (Bokeh.version === py_version || (Bokeh.versions !== undefined && Bokeh.versions.has(py_version)));\n      root._bokeh_is_initializing = true\n      root._bokeh_onload_callbacks = []\n      if (!reloading && (!bokeh_loaded || is_dev)) {\n\troot.Bokeh = undefined;\n      }\n      load_libs(css_urls, js_urls, js_modules, js_exports, function() {\n\tconsole.debug(\"Bokeh: BokehJS plotting callback run at\", now());\n\trun_inline_js();\n      });\n    }\n  }\n  // Give older versions of the autoload script a head-start to ensure\n  // they initialize before we start loading newer version.\n  setTimeout(load_or_wait, 100)\n}(window));",
      "application/vnd.holoviews_load.v0+json": ""
     },
     "metadata": {},
     "output_type": "display_data"
    },
    {
     "data": {
      "application/javascript": "\nif ((window.PyViz === undefined) || (window.PyViz instanceof HTMLElement)) {\n  window.PyViz = {comms: {}, comm_status:{}, kernels:{}, receivers: {}, plot_index: []}\n}\n\n\n    function JupyterCommManager() {\n    }\n\n    JupyterCommManager.prototype.register_target = function(plot_id, comm_id, msg_handler) {\n      if (window.comm_manager || ((window.Jupyter !== undefined) && (Jupyter.notebook.kernel != null))) {\n        var comm_manager = window.comm_manager || Jupyter.notebook.kernel.comm_manager;\n        comm_manager.register_target(comm_id, function(comm) {\n          comm.on_msg(msg_handler);\n        });\n      } else if ((plot_id in window.PyViz.kernels) && (window.PyViz.kernels[plot_id])) {\n        window.PyViz.kernels[plot_id].registerCommTarget(comm_id, function(comm) {\n          comm.onMsg = msg_handler;\n        });\n      } else if (typeof google != 'undefined' && google.colab.kernel != null) {\n        google.colab.kernel.comms.registerTarget(comm_id, (comm) => {\n          var messages = comm.messages[Symbol.asyncIterator]();\n          function processIteratorResult(result) {\n            var message = result.value;\n            console.log(message)\n            var content = {data: message.data, comm_id};\n            var buffers = []\n            for (var buffer of message.buffers || []) {\n              buffers.push(new DataView(buffer))\n            }\n            var metadata = message.metadata || {};\n            var msg = {content, buffers, metadata}\n            msg_handler(msg);\n            return messages.next().then(processIteratorResult);\n          }\n          return messages.next().then(processIteratorResult);\n        })\n      }\n    }\n\n    JupyterCommManager.prototype.get_client_comm = function(plot_id, comm_id, msg_handler) {\n      if (comm_id in window.PyViz.comms) {\n        return window.PyViz.comms[comm_id];\n      } else if (window.comm_manager || ((window.Jupyter !== undefined) && (Jupyter.notebook.kernel != null))) {\n        var comm_manager = window.comm_manager || Jupyter.notebook.kernel.comm_manager;\n        var comm = comm_manager.new_comm(comm_id, {}, {}, {}, comm_id);\n        if (msg_handler) {\n          comm.on_msg(msg_handler);\n        }\n      } else if ((plot_id in window.PyViz.kernels) && (window.PyViz.kernels[plot_id])) {\n        var comm = window.PyViz.kernels[plot_id].connectToComm(comm_id);\n        comm.open();\n        if (msg_handler) {\n          comm.onMsg = msg_handler;\n        }\n      } else if (typeof google != 'undefined' && google.colab.kernel != null) {\n        var comm_promise = google.colab.kernel.comms.open(comm_id)\n        comm_promise.then((comm) => {\n          window.PyViz.comms[comm_id] = comm;\n          if (msg_handler) {\n            var messages = comm.messages[Symbol.asyncIterator]();\n            function processIteratorResult(result) {\n              var message = result.value;\n              var content = {data: message.data};\n              var metadata = message.metadata || {comm_id};\n              var msg = {content, metadata}\n              msg_handler(msg);\n              return messages.next().then(processIteratorResult);\n            }\n            return messages.next().then(processIteratorResult);\n          }\n        }) \n        var sendClosure = (data, metadata, buffers, disposeOnDone) => {\n          return comm_promise.then((comm) => {\n            comm.send(data, metadata, buffers, disposeOnDone);\n          });\n        };\n        var comm = {\n          send: sendClosure\n        };\n      }\n      window.PyViz.comms[comm_id] = comm;\n      return comm;\n    }\n    window.PyViz.comm_manager = new JupyterCommManager();\n    \n\n\nvar JS_MIME_TYPE = 'application/javascript';\nvar HTML_MIME_TYPE = 'text/html';\nvar EXEC_MIME_TYPE = 'application/vnd.holoviews_exec.v0+json';\nvar CLASS_NAME = 'output';\n\n/**\n * Render data to the DOM node\n */\nfunction render(props, node) {\n  var div = document.createElement(\"div\");\n  var script = document.createElement(\"script\");\n  node.appendChild(div);\n  node.appendChild(script);\n}\n\n/**\n * Handle when a new output is added\n */\nfunction handle_add_output(event, handle) {\n  var output_area = handle.output_area;\n  var output = handle.output;\n  if ((output.data == undefined) || (!output.data.hasOwnProperty(EXEC_MIME_TYPE))) {\n    return\n  }\n  var id = output.metadata[EXEC_MIME_TYPE][\"id\"];\n  var toinsert = output_area.element.find(\".\" + CLASS_NAME.split(' ')[0]);\n  if (id !== undefined) {\n    var nchildren = toinsert.length;\n    var html_node = toinsert[nchildren-1].children[0];\n    html_node.innerHTML = output.data[HTML_MIME_TYPE];\n    var scripts = [];\n    var nodelist = html_node.querySelectorAll(\"script\");\n    for (var i in nodelist) {\n      if (nodelist.hasOwnProperty(i)) {\n        scripts.push(nodelist[i])\n      }\n    }\n\n    scripts.forEach( function (oldScript) {\n      var newScript = document.createElement(\"script\");\n      var attrs = [];\n      var nodemap = oldScript.attributes;\n      for (var j in nodemap) {\n        if (nodemap.hasOwnProperty(j)) {\n          attrs.push(nodemap[j])\n        }\n      }\n      attrs.forEach(function(attr) { newScript.setAttribute(attr.name, attr.value) });\n      newScript.appendChild(document.createTextNode(oldScript.innerHTML));\n      oldScript.parentNode.replaceChild(newScript, oldScript);\n    });\n    if (JS_MIME_TYPE in output.data) {\n      toinsert[nchildren-1].children[1].textContent = output.data[JS_MIME_TYPE];\n    }\n    output_area._hv_plot_id = id;\n    if ((window.Bokeh !== undefined) && (id in Bokeh.index)) {\n      window.PyViz.plot_index[id] = Bokeh.index[id];\n    } else {\n      window.PyViz.plot_index[id] = null;\n    }\n  } else if (output.metadata[EXEC_MIME_TYPE][\"server_id\"] !== undefined) {\n    var bk_div = document.createElement(\"div\");\n    bk_div.innerHTML = output.data[HTML_MIME_TYPE];\n    var script_attrs = bk_div.children[0].attributes;\n    for (var i = 0; i < script_attrs.length; i++) {\n      toinsert[toinsert.length - 1].childNodes[1].setAttribute(script_attrs[i].name, script_attrs[i].value);\n    }\n    // store reference to server id on output_area\n    output_area._bokeh_server_id = output.metadata[EXEC_MIME_TYPE][\"server_id\"];\n  }\n}\n\n/**\n * Handle when an output is cleared or removed\n */\nfunction handle_clear_output(event, handle) {\n  var id = handle.cell.output_area._hv_plot_id;\n  var server_id = handle.cell.output_area._bokeh_server_id;\n  if (((id === undefined) || !(id in PyViz.plot_index)) && (server_id !== undefined)) { return; }\n  var comm = window.PyViz.comm_manager.get_client_comm(\"hv-extension-comm\", \"hv-extension-comm\", function () {});\n  if (server_id !== null) {\n    comm.send({event_type: 'server_delete', 'id': server_id});\n    return;\n  } else if (comm !== null) {\n    comm.send({event_type: 'delete', 'id': id});\n  }\n  delete PyViz.plot_index[id];\n  if ((window.Bokeh !== undefined) & (id in window.Bokeh.index)) {\n    var doc = window.Bokeh.index[id].model.document\n    doc.clear();\n    const i = window.Bokeh.documents.indexOf(doc);\n    if (i > -1) {\n      window.Bokeh.documents.splice(i, 1);\n    }\n  }\n}\n\n/**\n * Handle kernel restart event\n */\nfunction handle_kernel_cleanup(event, handle) {\n  delete PyViz.comms[\"hv-extension-comm\"];\n  window.PyViz.plot_index = {}\n}\n\n/**\n * Handle update_display_data messages\n */\nfunction handle_update_output(event, handle) {\n  handle_clear_output(event, {cell: {output_area: handle.output_area}})\n  handle_add_output(event, handle)\n}\n\nfunction register_renderer(events, OutputArea) {\n  function append_mime(data, metadata, element) {\n    // create a DOM node to render to\n    var toinsert = this.create_output_subarea(\n    metadata,\n    CLASS_NAME,\n    EXEC_MIME_TYPE\n    );\n    this.keyboard_manager.register_events(toinsert);\n    // Render to node\n    var props = {data: data, metadata: metadata[EXEC_MIME_TYPE]};\n    render(props, toinsert[0]);\n    element.append(toinsert);\n    return toinsert\n  }\n\n  events.on('output_added.OutputArea', handle_add_output);\n  events.on('output_updated.OutputArea', handle_update_output);\n  events.on('clear_output.CodeCell', handle_clear_output);\n  events.on('delete.Cell', handle_clear_output);\n  events.on('kernel_ready.Kernel', handle_kernel_cleanup);\n\n  OutputArea.prototype.register_mime_type(EXEC_MIME_TYPE, append_mime, {\n    safe: true,\n    index: 0\n  });\n}\n\nif (window.Jupyter !== undefined) {\n  try {\n    var events = require('base/js/events');\n    var OutputArea = require('notebook/js/outputarea').OutputArea;\n    if (OutputArea.prototype.mime_types().indexOf(EXEC_MIME_TYPE) == -1) {\n      register_renderer(events, OutputArea);\n    }\n  } catch(err) {\n  }\n}\n",
      "application/vnd.holoviews_load.v0+json": ""
     },
     "metadata": {},
     "output_type": "display_data"
    },
    {
     "data": {
      "text/html": [
       "<style>*[data-root-id],\n",
       "*[data-root-id] > * {\n",
       "  box-sizing: border-box;\n",
       "  font-family: var(--jp-ui-font-family);\n",
       "  font-size: var(--jp-ui-font-size1);\n",
       "  color: var(--vscode-editor-foreground, var(--jp-ui-font-color1));\n",
       "}\n",
       "\n",
       "/* Override VSCode background color */\n",
       ".cell-output-ipywidget-background:has(> .cell-output-ipywidget-background\n",
       "    > .lm-Widget\n",
       "    > *[data-root-id]),\n",
       ".cell-output-ipywidget-background:has(> .lm-Widget > *[data-root-id]) {\n",
       "  background-color: transparent !important;\n",
       "}\n",
       "</style>"
      ]
     },
     "metadata": {},
     "output_type": "display_data"
    },
    {
     "data": {
      "application/vnd.holoviews_exec.v0+json": "",
      "text/html": [
       "<div id='588d89f1-9b1e-47f0-b586-6dee07fcc168'>\n",
       "  <div id=\"c000bbb6-6a01-45f6-aa04-64b07db44ee6\" data-root-id=\"588d89f1-9b1e-47f0-b586-6dee07fcc168\" style=\"display: contents;\"></div>\n",
       "</div>\n",
       "<script type=\"application/javascript\">(function(root) {\n",
       "  var docs_json = {\"fac0ca78-8f9b-41da-b561-82027f897972\":{\"version\":\"3.1.1\",\"title\":\"Bokeh Application\",\"defs\":[{\"type\":\"model\",\"name\":\"ReactiveHTML1\"},{\"type\":\"model\",\"name\":\"FlexBox1\",\"properties\":[{\"name\":\"align_content\",\"kind\":\"Any\",\"default\":\"flex-start\"},{\"name\":\"align_items\",\"kind\":\"Any\",\"default\":\"flex-start\"},{\"name\":\"flex_direction\",\"kind\":\"Any\",\"default\":\"row\"},{\"name\":\"flex_wrap\",\"kind\":\"Any\",\"default\":\"wrap\"},{\"name\":\"justify_content\",\"kind\":\"Any\",\"default\":\"flex-start\"}]},{\"type\":\"model\",\"name\":\"FloatPanel1\",\"properties\":[{\"name\":\"config\",\"kind\":\"Any\",\"default\":{\"type\":\"map\"}},{\"name\":\"contained\",\"kind\":\"Any\",\"default\":true},{\"name\":\"position\",\"kind\":\"Any\",\"default\":\"right-top\"},{\"name\":\"offsetx\",\"kind\":\"Any\",\"default\":null},{\"name\":\"offsety\",\"kind\":\"Any\",\"default\":null},{\"name\":\"theme\",\"kind\":\"Any\",\"default\":\"primary\"},{\"name\":\"status\",\"kind\":\"Any\",\"default\":\"normalized\"}]},{\"type\":\"model\",\"name\":\"GridStack1\",\"properties\":[{\"name\":\"mode\",\"kind\":\"Any\",\"default\":\"warn\"},{\"name\":\"ncols\",\"kind\":\"Any\",\"default\":null},{\"name\":\"nrows\",\"kind\":\"Any\",\"default\":null},{\"name\":\"allow_resize\",\"kind\":\"Any\",\"default\":true},{\"name\":\"allow_drag\",\"kind\":\"Any\",\"default\":true},{\"name\":\"state\",\"kind\":\"Any\",\"default\":[]}]},{\"type\":\"model\",\"name\":\"drag1\",\"properties\":[{\"name\":\"slider_width\",\"kind\":\"Any\",\"default\":5},{\"name\":\"slider_color\",\"kind\":\"Any\",\"default\":\"black\"},{\"name\":\"value\",\"kind\":\"Any\",\"default\":50}]},{\"type\":\"model\",\"name\":\"click1\",\"properties\":[{\"name\":\"terminal_output\",\"kind\":\"Any\",\"default\":\"\"},{\"name\":\"debug_name\",\"kind\":\"Any\",\"default\":\"\"},{\"name\":\"clears\",\"kind\":\"Any\",\"default\":0}]},{\"type\":\"model\",\"name\":\"FastWrapper1\",\"properties\":[{\"name\":\"object\",\"kind\":\"Any\",\"default\":null},{\"name\":\"style\",\"kind\":\"Any\",\"default\":null}]},{\"type\":\"model\",\"name\":\"NotificationAreaBase1\",\"properties\":[{\"name\":\"position\",\"kind\":\"Any\",\"default\":\"bottom-right\"},{\"name\":\"_clear\",\"kind\":\"Any\",\"default\":0}]},{\"type\":\"model\",\"name\":\"NotificationArea1\",\"properties\":[{\"name\":\"notifications\",\"kind\":\"Any\",\"default\":[]},{\"name\":\"position\",\"kind\":\"Any\",\"default\":\"bottom-right\"},{\"name\":\"_clear\",\"kind\":\"Any\",\"default\":0},{\"name\":\"types\",\"kind\":\"Any\",\"default\":[{\"type\":\"map\",\"entries\":[[\"type\",\"warning\"],[\"background\",\"#ffc107\"],[\"icon\",{\"type\":\"map\",\"entries\":[[\"className\",\"fas fa-exclamation-triangle\"],[\"tagName\",\"i\"],[\"color\",\"white\"]]}]]},{\"type\":\"map\",\"entries\":[[\"type\",\"info\"],[\"background\",\"#007bff\"],[\"icon\",{\"type\":\"map\",\"entries\":[[\"className\",\"fas fa-info-circle\"],[\"tagName\",\"i\"],[\"color\",\"white\"]]}]]}]}]},{\"type\":\"model\",\"name\":\"Notification\",\"properties\":[{\"name\":\"background\",\"kind\":\"Any\",\"default\":null},{\"name\":\"duration\",\"kind\":\"Any\",\"default\":3000},{\"name\":\"icon\",\"kind\":\"Any\",\"default\":null},{\"name\":\"message\",\"kind\":\"Any\",\"default\":\"\"},{\"name\":\"notification_type\",\"kind\":\"Any\",\"default\":null},{\"name\":\"_destroyed\",\"kind\":\"Any\",\"default\":false}]},{\"type\":\"model\",\"name\":\"TemplateActions1\",\"properties\":[{\"name\":\"open_modal\",\"kind\":\"Any\",\"default\":0},{\"name\":\"close_modal\",\"kind\":\"Any\",\"default\":0}]},{\"type\":\"model\",\"name\":\"BootstrapTemplateActions1\",\"properties\":[{\"name\":\"open_modal\",\"kind\":\"Any\",\"default\":0},{\"name\":\"close_modal\",\"kind\":\"Any\",\"default\":0}]},{\"type\":\"model\",\"name\":\"MaterialTemplateActions1\",\"properties\":[{\"name\":\"open_modal\",\"kind\":\"Any\",\"default\":0},{\"name\":\"close_modal\",\"kind\":\"Any\",\"default\":0}]}],\"roots\":[{\"type\":\"object\",\"name\":\"panel.models.browser.BrowserInfo\",\"id\":\"588d89f1-9b1e-47f0-b586-6dee07fcc168\"},{\"type\":\"object\",\"name\":\"panel.models.comm_manager.CommManager\",\"id\":\"27867d09-eb44-475d-84dc-0a526f7519c8\",\"attributes\":{\"plot_id\":\"588d89f1-9b1e-47f0-b586-6dee07fcc168\",\"comm_id\":\"7087aaf6d7004c92a76e0e4e1474cdbf\",\"client_comm_id\":\"7f3e109e339b485eb389d3f070356403\"}}],\"callbacks\":{\"type\":\"map\"}}};\n",
       "  var render_items = [{\"docid\":\"fac0ca78-8f9b-41da-b561-82027f897972\",\"roots\":{\"588d89f1-9b1e-47f0-b586-6dee07fcc168\":\"c000bbb6-6a01-45f6-aa04-64b07db44ee6\"},\"root_ids\":[\"588d89f1-9b1e-47f0-b586-6dee07fcc168\"]}];\n",
       "  var docs = Object.values(docs_json)\n",
       "  if (!docs) {\n",
       "    return\n",
       "  }\n",
       "  const py_version = docs[0].version.replace('rc', '-rc.').replace('.dev', '-dev.')\n",
       "  const is_dev = py_version.indexOf(\"+\") !== -1 || py_version.indexOf(\"-\") !== -1\n",
       "  function embed_document(root) {\n",
       "    var Bokeh = get_bokeh(root)\n",
       "    Bokeh.embed.embed_items_notebook(docs_json, render_items);\n",
       "    for (const render_item of render_items) {\n",
       "      for (const root_id of render_item.root_ids) {\n",
       "\tconst id_el = document.getElementById(root_id)\n",
       "\tif (id_el.children.length && (id_el.children[0].className === 'bk-root')) {\n",
       "\t  const root_el = id_el.children[0]\n",
       "\t  root_el.id = root_el.id + '-rendered'\n",
       "\t}\n",
       "      }\n",
       "    }\n",
       "  }\n",
       "  function get_bokeh(root) {\n",
       "    if (root.Bokeh === undefined) {\n",
       "      return null\n",
       "    } else if (root.Bokeh.version !== py_version && !is_dev) {\n",
       "      if (root.Bokeh.versions === undefined || !root.Bokeh.versions.has(py_version)) {\n",
       "\treturn null\n",
       "      }\n",
       "      return root.Bokeh.versions.get(py_version);\n",
       "    } else if (root.Bokeh.version === py_version) {\n",
       "      return root.Bokeh\n",
       "    }\n",
       "    return null\n",
       "  }\n",
       "  function is_loaded(root) {\n",
       "    var Bokeh = get_bokeh(root)\n",
       "    return (Bokeh != null && Bokeh.Panel !== undefined && ( root['Plotly'] !== undefined) && ( root['Plotly'] !== undefined) && ( root['Plotly'] !== undefined))\n",
       "  }\n",
       "  if (is_loaded(root)) {\n",
       "    embed_document(root);\n",
       "  } else {\n",
       "    var attempts = 0;\n",
       "    var timer = setInterval(function(root) {\n",
       "      if (is_loaded(root)) {\n",
       "        clearInterval(timer);\n",
       "        embed_document(root);\n",
       "      } else if (document.readyState == \"complete\") {\n",
       "        attempts++;\n",
       "        if (attempts > 200) {\n",
       "          clearInterval(timer);\n",
       "\t  var Bokeh = get_bokeh(root)\n",
       "\t  if (Bokeh == null || Bokeh.Panel == null) {\n",
       "            console.warn(\"Panel: ERROR: Unable to run Panel code because Bokeh or Panel library is missing\");\n",
       "\t  } else {\n",
       "\t    console.warn(\"Panel: WARNING: Attempting to render but not all required libraries could be resolved.\")\n",
       "\t    embed_document(root)\n",
       "\t  }\n",
       "        }\n",
       "      }\n",
       "    }, 25, root)\n",
       "  }\n",
       "})(window);</script>"
      ]
     },
     "metadata": {
      "application/vnd.holoviews_exec.v0+json": {
       "id": "588d89f1-9b1e-47f0-b586-6dee07fcc168"
      }
     },
     "output_type": "display_data"
    }
   ],
   "source": [
    "import panel as pn\n",
    "import mricloudpy as mp\n",
    "from tkinter import Tk, filedialog\n",
    "import ctypes\n",
    "\n",
    "pn.extension('plotly')\n",
    "# pn.extension('tabulator')\n",
    "\n",
    "# Kermit, Miss Piggy, Fozzie, Gonzo, Rowlf, Scooter, Animal, Pepe, Rizzo, Beaker, Statler, Waldorf, Swedish Chef"
   ]
  },
  {
   "cell_type": "markdown",
   "metadata": {},
   "source": [
    "### Sidebar items"
   ]
  },
  {
   "cell_type": "code",
   "execution_count": 8,
   "metadata": {},
   "outputs": [],
   "source": [
    "dir_select_button = pn.widgets.Button(name='Select data directory', button_type='primary')\n",
    "dir_select_text = pn.widgets.StaticText(visible=False)\n",
    "id_type_select = pn.widgets.Select(name='ID Type', options={'Numeric': 'numeric',\n",
    "                                                         'Filename': 'filename',\n",
    "                                                         'Custom': 'custom'})\n",
    "id_list_text = pn.widgets.TextAreaInput(name='ID List', visible=False, \n",
    "                                        placeholder='ex: Kermit, Miss Piggy, Fozzie...')\n",
    "file_upload_button = pn.widgets.Button(name='Upload', button_type='primary')\n",
    "data = pn.widgets.Tabulator(height=500, width=300, page_size=100, pagination='local', disabled=True)"
   ]
  },
  {
   "cell_type": "markdown",
   "metadata": {},
   "source": [
    "### Main items"
   ]
  },
  {
   "cell_type": "code",
   "execution_count": 9,
   "metadata": {},
   "outputs": [],
   "source": [
    "vis_select = pn.widgets.Select(name='Visual', options={'Sunburst':'sunburst', \n",
    "                                                       'Treemap': 'treemap',\n",
    "                                                       'Icicle': 'icicle',\n",
    "                                                       'Bar': 'bar',\n",
    "                                                       'Mean Difference': 'mean_diff',\n",
    "                                                       'Correlation Matrix': 'corr_matrix'},\n",
    "                                                       width=140)\n",
    "type_select = pn.widgets.Select(name='Type', options=['1', '2'], width=50, visible=True)\n",
    "base_level_select = pn.widgets.Select(name='Base Level', options=['1', '2', '3', '4', '5'], width=50, visible=True)\n",
    "id_single_select = pn.widgets.Select(name='ID', options=[], width=100, visible=True)\n",
    "id_multi_text = pn.widgets.TextAreaInput(name='ID List', placeholder='ex: Kermit, Miss Piggy... (or \\\"all\\\")',\n",
    "                                          width=150, visible=False)\n",
    "x_select = pn.widgets.Select(name='x', options=['ID', 'Object'], width=100, visible=False)\n",
    "y_select = pn.widgets.Select(name='y', options=['Prop', 'Volume'], width=100, visible=False)\n",
    "log_select = pn.widgets.Select(name='Logarithm', options=['False', 'True'], width=100, visible=False)\n",
    "generate_button = pn.widgets.Button(name='Generate', button_type='primary')\n",
    "\n",
    "vis_plot = pn.pane.Plotly(sizing_mode=\"stretch_width\", config={'responsive': True}, height=700, visible = False)\n"
   ]
  },
  {
   "cell_type": "markdown",
   "metadata": {},
   "source": [
    "### Sidebar events"
   ]
  },
  {
   "cell_type": "code",
   "execution_count": 10,
   "metadata": {},
   "outputs": [],
   "source": [
    "def dir_select(event):\n",
    "    ctypes.windll.shcore.SetProcessDpiAwareness(1)\n",
    "    root = Tk()\n",
    "    root.withdraw()                                        \n",
    "    root.call('wm', 'attributes', '.', '-topmost', True) \n",
    "    # root.call('tk', 'scaling', 2.0)  \n",
    "    dir_select.dir = filedialog.askdirectory(mustexist=True)\n",
    "    dir_select_text.value = dir_select.dir\n",
    "    dir_select_text.visible = True\n",
    "\n",
    "def check_custom(event):\n",
    "    if event.new == 'custom':\n",
    "        id_list_text.visible = True\n",
    "    else:\n",
    "        id_list_text.visible = False\n",
    "\n",
    "def custom_list_format(event):\n",
    "    text = event.new\n",
    "    text = text.replace(', ', ',')\n",
    "    custom_list_format.text_list = text.split(',')\n",
    "\n",
    "def upload(event):\n",
    "    upload.is_uploaded = False\n",
    "    if dir_select.dir is not None:\n",
    "        try:\n",
    "            upload.dataset = mp.Data(path=dir_select.dir, id_type=id_type_select.value, \n",
    "                             id_list=custom_list_format.text_list)\n",
    "            data.value = upload.dataset.get_data()\n",
    "        except:\n",
    "            upload.dataset = mp.Data(path=dir_select.dir, id_type=id_type_select.value)\n",
    "            data.value = upload.dataset.get_data()\n",
    "        data.visible = True\n",
    "        id_single_select.options = data.value['ID'].unique().tolist()\n",
    "        upload.is_uploaded = True\n",
    "\n",
    "dir_select_button.on_click(dir_select)\n",
    "id_type_select.param.watch(check_custom, 'value')\n",
    "id_list_text.param.watch(custom_list_format, 'value')\n",
    "file_upload_button.on_click(upload)\n",
    "data.visible = False\n",
    "\n",
    "side_col = pn.Column('# Upload Data',\n",
    "                     dir_select_button,\n",
    "                     dir_select_text, \n",
    "                     id_type_select,\n",
    "                     id_list_text, \n",
    "                     file_upload_button,\n",
    "                     pn.layout.Divider(),\n",
    "                     '### Data Preview',\n",
    "                     data)"
   ]
  },
  {
   "cell_type": "markdown",
   "metadata": {},
   "source": [
    "### Main events"
   ]
  },
  {
   "cell_type": "code",
   "execution_count": 11,
   "metadata": {},
   "outputs": [],
   "source": [
    "def check_vis_type(event):\n",
    "    if event.new == 'sunburst' or event.new == 'treemap' or event.new == 'icicle':\n",
    "        type_select.visible = True\n",
    "        base_level_select.visible = True\n",
    "        id_single_select.visible = True\n",
    "        id_multi_text.visible = False\n",
    "        x_select.visible = False\n",
    "        y_select.visible = False\n",
    "        log_select.visible = False\n",
    "    elif event.new == 'bar':\n",
    "        type_select.visible = True\n",
    "        base_level_select.visible = True\n",
    "        id_single_select.visible = False\n",
    "        id_multi_text.visible = True\n",
    "        x_select.visible = True\n",
    "        y_select.visible = True\n",
    "        log_select.visible = True\n",
    "    elif event.new == 'mean_diff':\n",
    "        type_select.visible = True\n",
    "        base_level_select.visible = True\n",
    "        id_single_select.visible = False\n",
    "        id_multi_text.visible = True\n",
    "        x_select.visible = True\n",
    "        y_select.visible = False\n",
    "        log_select.visible = False\n",
    "    elif event.new == 'corr_matrix':\n",
    "        type_select.visible = True\n",
    "        base_level_select.visible = True\n",
    "        id_single_select.visible = False\n",
    "        id_multi_text.visible = True\n",
    "        x_select.visible = False\n",
    "        y_select.visible = False\n",
    "        log_select.visible = False\n",
    "\n",
    "def id_list_format(event):\n",
    "    text = event.new\n",
    "    if text == 'all':\n",
    "        id_list_format.text_list = list(id_single_select.options)\n",
    "    else:\n",
    "        text = text.replace(', ', ',')\n",
    "        id_list_format.text_list = text.split(',')\n",
    "    \n",
    "\n",
    "def generate(event):\n",
    "    if upload.is_uploaded:\n",
    "        if vis_select.value == 'sunburst':\n",
    "            vis_plot.object = upload.dataset.generate_sunburst(type=int(type_select.value), \n",
    "                                                        id=str(id_single_select.value), \n",
    "                                                        base_level=int(base_level_select.value))\n",
    "            vis_plot.visible = True\n",
    "        elif vis_select.value == 'treemap':\n",
    "            vis_plot.object = upload.dataset.generate_treemap(type=int(type_select.value), \n",
    "                                                        id=str(id_single_select.value), \n",
    "                                                        base_level=int(base_level_select.value))\n",
    "            vis_plot.visible = True\n",
    "        elif vis_select.value == 'icicle':\n",
    "            vis_plot.object = upload.dataset.generate_icicle(type=int(type_select.value), \n",
    "                                                        id=str(id_single_select.value), \n",
    "                                                        base_level=int(base_level_select.value))\n",
    "            vis_plot.visible = True\n",
    "        elif vis_select.value == 'bar':\n",
    "            vis_plot.object = upload.dataset.generate_bar(type=int(type_select.value), \n",
    "                                                        id=id_list_format.text_list, \n",
    "                                                        level=int(base_level_select.value),\n",
    "                                                        x=x_select.value,\n",
    "                                                        y=y_select.value,\n",
    "                                                        log_y=eval(log_select.value))\n",
    "            vis_plot.visible = True\n",
    "        elif vis_select.value == 'mean_diff':\n",
    "            vis_plot.object = upload.dataset.generate_mean_diff(type=int(type_select.value),\n",
    "                                                                id=id_list_format.text_list,\n",
    "                                                                level=int(base_level_select.value),\n",
    "                                                                color=x_select.value)\n",
    "            vis_plot.visible = True\n",
    "        elif vis_select.value == 'corr_matrix':\n",
    "            vis_plot.object = upload.dataset.generate_corr_matrix(type=int(type_select.value),\n",
    "                                                                  id=id_list_format.text_list,\n",
    "                                                                  level=int(base_level_select.value))\n",
    "            vis_plot.visible = True\n",
    "    \n",
    "\n",
    "vis_select.param.watch(check_vis_type, 'value')\n",
    "id_multi_text.param.watch(id_list_format, 'value')\n",
    "generate_button.on_click(generate)\n",
    "\n",
    "main_header = pn.Row(vis_select, type_select, base_level_select, id_single_select, \n",
    "                     id_multi_text, x_select, y_select, log_select)\n",
    "main_col = pn.Column('# Main Column',\n",
    "                     main_header,\n",
    "                     generate_button,\n",
    "                     vis_plot)"
   ]
  },
  {
   "cell_type": "code",
   "execution_count": 12,
   "metadata": {},
   "outputs": [
    {
     "name": "stdout",
     "output_type": "stream",
     "text": [
      "Launching server at http://localhost:51693\n"
     ]
    },
    {
     "data": {
      "text/plain": [
       "<panel.io.server.Server at 0x1a01aa2f940>"
      ]
     },
     "execution_count": 12,
     "metadata": {},
     "output_type": "execute_result"
    },
    {
     "name": "stdout",
     "output_type": "stream",
     "text": [
      "import_data: Data files found\n",
      "kirby127a_3_1_ax_283Labels_M2_corrected_stats.txt\n",
      "kirby142a_3_1_ax_283Labels_M2_corrected_stats.txt\n",
      "kirby239a_3_1_ax_283Labels_M2_corrected_stats.txt\n",
      "kirby346a_3_1_ax_283Labels_M2_corrected_stats.txt\n",
      "kirby422a_3_1_ax_283Labels_M2_corrected_stats.txt\n",
      "kirby492a_3_1_ax_283Labels_M2_corrected_stats.txt\n",
      "kirby501a_3_1_ax_283Labels_M2_corrected_stats.txt\n",
      "kirby505a_3_1_ax_283Labels_M2_corrected_stats.txt\n",
      "kirby656a_3_1_ax_283Labels_M2_corrected_stats.txt\n",
      "kirby679a_3_1_ax_283Labels_M2_corrected_stats.txt\n",
      "kirby742a_3_1_ax_283Labels_M2_corrected_stats.txt\n",
      "kirby800a_3_1_ax_283Labels_M2_corrected_stats.txt\n",
      "kirby814a_3_1_ax_283Labels_M2_corrected_stats.txt\n",
      "import_data: Importing...\n",
      "import_data: Import successful\n",
      "generate_mean_diff: Generating...\n",
      "generate_mean_diff: Generation successful\n"
     ]
    },
    {
     "data": {
      "application/vnd.plotly.v1+json": {
       "config": {
        "plotlyServerURL": "https://plot.ly"
       },
       "data": [
        {
         "customdata": [
          [
           "SFG_L"
          ],
          [
           "MFG_L"
          ],
          [
           "IFG_L"
          ],
          [
           "OG_L"
          ],
          [
           "RG_L"
          ],
          [
           "PoCG_L"
          ],
          [
           "PrCG_L"
          ],
          [
           "SPG_L"
          ],
          [
           "SMG_L"
          ],
          [
           "AG_L"
          ],
          [
           "PrCu_L"
          ],
          [
           "STG_L"
          ],
          [
           "MTG_L"
          ],
          [
           "ITG_L"
          ],
          [
           "Limbic_L"
          ],
          [
           "FuG_L"
          ],
          [
           "SOG_L"
          ],
          [
           "MOG_L"
          ],
          [
           "IOG_L"
          ],
          [
           "Cu_L"
          ],
          [
           "LG_L"
          ],
          [
           "Cingulate_L"
          ],
          [
           "Insula_L"
          ],
          [
           "Amyg_L"
          ],
          [
           "Hippo_L"
          ],
          [
           "Caud_L"
          ],
          [
           "Put_L"
          ],
          [
           "GP_L"
          ],
          [
           "Thalamus_L"
          ],
          [
           "BasalForebrain_L"
          ],
          [
           "midbrain_L"
          ],
          [
           "Cerebellum_L"
          ],
          [
           "Pons_L"
          ],
          [
           "Medulla_L"
          ],
          [
           "ant_DPWM_L"
          ],
          [
           "post_DPWM_L"
          ],
          [
           "GCC_L"
          ],
          [
           "BCC_L"
          ],
          [
           "SCC_L"
          ],
          [
           "PVA_posterior_L"
          ],
          [
           "ALIC_L"
          ],
          [
           "PLIC_L"
          ],
          [
           "inf_DPWM_L"
          ],
          [
           "CGC_L"
          ],
          [
           "CGH_L"
          ],
          [
           "Fx/ST_L"
          ],
          [
           "Fx_L"
          ],
          [
           "PeripheralParietalWM_L"
          ],
          [
           "AnteriorLateralVentricle_L"
          ],
          [
           "PosteriorLateralVentricle_L"
          ],
          [
           "InferiorLateralVentricle_L"
          ],
          [
           "PVA_anterior_L"
          ],
          [
           "PeripheralFrontalWM_L"
          ],
          [
           "PeripheralTemporalWM_L"
          ],
          [
           "PeripheralOccipitalWM_L"
          ],
          [
           "PeripheralCingulateWM_L"
          ],
          [
           "CerebellumWM_L"
          ],
          [
           "FrontSul_L"
          ],
          [
           "CentralSul_L"
          ],
          [
           "SylFrontSul_L"
          ],
          [
           "SylTempSul_L"
          ],
          [
           "SylParieSul_L"
          ],
          [
           "ParietSul_L"
          ],
          [
           "CinguSul_L"
          ],
          [
           "OcciptSul_L"
          ],
          [
           "TempSul_L"
          ],
          [
           "Caudate_tail_L"
          ]
         ],
         "hovertemplate": "ID=0<br>Mean (mm³)=%{x}<br>Difference (mm³)=%{y}<br>Object=%{customdata[0]}<extra></extra>",
         "legendgroup": "0",
         "marker": {
          "color": "#636efa",
          "size": 10,
          "symbol": "circle"
         },
         "mode": "markers",
         "name": "0",
         "orientation": "v",
         "showlegend": true,
         "type": "scatter",
         "x": [
          27608,
          26918,
          12344,
          9373,
          6256.5,
          10938,
          16134.5,
          7246,
          9061.5,
          10505,
          6966.5,
          17238,
          19116.5,
          12445,
          2234.5,
          13773,
          2418,
          15228,
          4382.5,
          6438.5,
          7678.5,
          24579.5,
          7161.5,
          2166,
          3875.5,
          3646.5,
          4392.5,
          1423,
          6357,
          4070.5,
          5134,
          58969.5,
          7762,
          2487,
          27164,
          4086,
          2666,
          4303.5,
          5679.5,
          1108.5,
          2436,
          3343,
          18636.5,
          3349,
          1768,
          1431.5,
          949.5,
          34914,
          14867.5,
          4598.5,
          871.5,
          851.5,
          61369,
          32781,
          31275,
          6515.5,
          12970.5,
          13118,
          1954.5,
          1382,
          1530,
          464,
          9233.5,
          1296,
          1994,
          1024.5,
          354
         ],
         "xaxis": "x",
         "y": [
          2356,
          -1362,
          1472,
          280,
          95,
          -480,
          -2777,
          636,
          -871,
          -6150,
          785,
          1164,
          -367,
          218,
          -109,
          518,
          300,
          2128,
          -185,
          -801,
          779,
          -3873,
          159,
          -366,
          193,
          -153,
          -15,
          -110,
          -30,
          -35,
          -382,
          931,
          -542,
          -168,
          -1482,
          628,
          -164,
          -367,
          -505,
          135,
          -184,
          92,
          989,
          -428,
          86,
          -13,
          -93,
          -2946,
          1307,
          757,
          -75,
          -31,
          -3230,
          -324,
          1062,
          1069,
          -805,
          3772,
          409,
          414,
          136,
          352,
          -989,
          -246,
          -120,
          229,
          18
         ],
         "yaxis": "y"
        },
        {
         "customdata": [
          [
           "SFG_L"
          ],
          [
           "MFG_L"
          ],
          [
           "IFG_L"
          ],
          [
           "OG_L"
          ],
          [
           "RG_L"
          ],
          [
           "PoCG_L"
          ],
          [
           "PrCG_L"
          ],
          [
           "SPG_L"
          ],
          [
           "SMG_L"
          ],
          [
           "AG_L"
          ],
          [
           "PrCu_L"
          ],
          [
           "STG_L"
          ],
          [
           "MTG_L"
          ],
          [
           "ITG_L"
          ],
          [
           "Limbic_L"
          ],
          [
           "FuG_L"
          ],
          [
           "SOG_L"
          ],
          [
           "MOG_L"
          ],
          [
           "IOG_L"
          ],
          [
           "Cu_L"
          ],
          [
           "LG_L"
          ],
          [
           "Cingulate_L"
          ],
          [
           "Insula_L"
          ],
          [
           "Amyg_L"
          ],
          [
           "Hippo_L"
          ],
          [
           "Caud_L"
          ],
          [
           "Put_L"
          ],
          [
           "GP_L"
          ],
          [
           "Thalamus_L"
          ],
          [
           "BasalForebrain_L"
          ],
          [
           "midbrain_L"
          ],
          [
           "Cerebellum_L"
          ],
          [
           "Pons_L"
          ],
          [
           "Medulla_L"
          ],
          [
           "ant_DPWM_L"
          ],
          [
           "post_DPWM_L"
          ],
          [
           "GCC_L"
          ],
          [
           "BCC_L"
          ],
          [
           "SCC_L"
          ],
          [
           "PVA_posterior_L"
          ],
          [
           "ALIC_L"
          ],
          [
           "PLIC_L"
          ],
          [
           "inf_DPWM_L"
          ],
          [
           "CGC_L"
          ],
          [
           "CGH_L"
          ],
          [
           "Fx/ST_L"
          ],
          [
           "Fx_L"
          ],
          [
           "PeripheralParietalWM_L"
          ],
          [
           "AnteriorLateralVentricle_L"
          ],
          [
           "PosteriorLateralVentricle_L"
          ],
          [
           "InferiorLateralVentricle_L"
          ],
          [
           "PVA_anterior_L"
          ],
          [
           "PeripheralFrontalWM_L"
          ],
          [
           "PeripheralTemporalWM_L"
          ],
          [
           "PeripheralOccipitalWM_L"
          ],
          [
           "PeripheralCingulateWM_L"
          ],
          [
           "CerebellumWM_L"
          ],
          [
           "FrontSul_L"
          ],
          [
           "CentralSul_L"
          ],
          [
           "SylFrontSul_L"
          ],
          [
           "SylTempSul_L"
          ],
          [
           "SylParieSul_L"
          ],
          [
           "ParietSul_L"
          ],
          [
           "CinguSul_L"
          ],
          [
           "OcciptSul_L"
          ],
          [
           "TempSul_L"
          ],
          [
           "Caudate_tail_L"
          ]
         ],
         "hovertemplate": "ID=1<br>Mean (mm³)=%{x}<br>Difference (mm³)=%{y}<br>Object=%{customdata[0]}<extra></extra>",
         "legendgroup": "1",
         "marker": {
          "color": "#EF553B",
          "size": 10,
          "symbol": "circle"
         },
         "mode": "markers",
         "name": "1",
         "orientation": "v",
         "showlegend": true,
         "type": "scatter",
         "x": [
          25421.5,
          23071.5,
          10842.5,
          10265,
          5311.5,
          12328.5,
          16144.5,
          7855.5,
          10351.5,
          10063.5,
          7102.5,
          19976.5,
          17536,
          12695,
          2170.5,
          15174,
          2985,
          16386,
          4048,
          6849.5,
          7951,
          22101.5,
          6916,
          1837.5,
          3524,
          4148,
          4739,
          1535,
          6013,
          3921.5,
          5258,
          62140,
          8150.5,
          2456,
          30574,
          5733.5,
          3175,
          5156.5,
          6306.5,
          1148.5,
          2485.5,
          3007.5,
          19914.5,
          3832.5,
          1599,
          1392.5,
          871.5,
          37802,
          12986,
          4236.5,
          1433.5,
          910,
          59878,
          36460,
          32349,
          5871.5,
          12612,
          13277,
          2463,
          1541.5,
          1088,
          330,
          10135,
          1554,
          1814.5,
          439.5,
          307.5
         ],
         "xaxis": "x",
         "y": [
          -443,
          1575,
          2405,
          240,
          261,
          -131,
          -4199,
          315,
          381,
          -3819,
          1417,
          895,
          994,
          -174,
          -165,
          -104,
          -978,
          748,
          -1124,
          537,
          1004,
          251,
          -194,
          -363,
          52,
          -198,
          -168,
          -66,
          -188,
          141,
          42,
          -1252,
          -883,
          68,
          1238,
          1103,
          -406,
          -5,
          -473,
          -43,
          -17,
          113,
          1745,
          57,
          126,
          -9,
          3,
          -834,
          108,
          -1881,
          -583,
          32,
          -4630,
          -2482,
          -2490,
          1491,
          -1230,
          4378,
          12,
          719,
          486,
          30,
          -820,
          -336,
          169,
          67,
          53
         ],
         "yaxis": "y"
        },
        {
         "customdata": [
          [
           "SFG_L"
          ],
          [
           "MFG_L"
          ],
          [
           "IFG_L"
          ],
          [
           "OG_L"
          ],
          [
           "RG_L"
          ],
          [
           "PoCG_L"
          ],
          [
           "PrCG_L"
          ],
          [
           "SPG_L"
          ],
          [
           "SMG_L"
          ],
          [
           "AG_L"
          ],
          [
           "PrCu_L"
          ],
          [
           "STG_L"
          ],
          [
           "MTG_L"
          ],
          [
           "ITG_L"
          ],
          [
           "Limbic_L"
          ],
          [
           "FuG_L"
          ],
          [
           "SOG_L"
          ],
          [
           "MOG_L"
          ],
          [
           "IOG_L"
          ],
          [
           "Cu_L"
          ],
          [
           "LG_L"
          ],
          [
           "Cingulate_L"
          ],
          [
           "Insula_L"
          ],
          [
           "Amyg_L"
          ],
          [
           "Hippo_L"
          ],
          [
           "Caud_L"
          ],
          [
           "Put_L"
          ],
          [
           "GP_L"
          ],
          [
           "Thalamus_L"
          ],
          [
           "BasalForebrain_L"
          ],
          [
           "midbrain_L"
          ],
          [
           "Cerebellum_L"
          ],
          [
           "Pons_L"
          ],
          [
           "Medulla_L"
          ],
          [
           "ant_DPWM_L"
          ],
          [
           "post_DPWM_L"
          ],
          [
           "GCC_L"
          ],
          [
           "BCC_L"
          ],
          [
           "SCC_L"
          ],
          [
           "PVA_posterior_L"
          ],
          [
           "ALIC_L"
          ],
          [
           "PLIC_L"
          ],
          [
           "inf_DPWM_L"
          ],
          [
           "CGC_L"
          ],
          [
           "CGH_L"
          ],
          [
           "Fx/ST_L"
          ],
          [
           "Fx_L"
          ],
          [
           "PeripheralParietalWM_L"
          ],
          [
           "AnteriorLateralVentricle_L"
          ],
          [
           "PosteriorLateralVentricle_L"
          ],
          [
           "InferiorLateralVentricle_L"
          ],
          [
           "PVA_anterior_L"
          ],
          [
           "PeripheralFrontalWM_L"
          ],
          [
           "PeripheralTemporalWM_L"
          ],
          [
           "PeripheralOccipitalWM_L"
          ],
          [
           "PeripheralCingulateWM_L"
          ],
          [
           "CerebellumWM_L"
          ],
          [
           "FrontSul_L"
          ],
          [
           "CentralSul_L"
          ],
          [
           "SylFrontSul_L"
          ],
          [
           "SylTempSul_L"
          ],
          [
           "SylParieSul_L"
          ],
          [
           "ParietSul_L"
          ],
          [
           "CinguSul_L"
          ],
          [
           "OcciptSul_L"
          ],
          [
           "TempSul_L"
          ],
          [
           "Caudate_tail_L"
          ]
         ],
         "hovertemplate": "ID=2<br>Mean (mm³)=%{x}<br>Difference (mm³)=%{y}<br>Object=%{customdata[0]}<extra></extra>",
         "legendgroup": "2",
         "marker": {
          "color": "#00cc96",
          "size": 10,
          "symbol": "circle"
         },
         "mode": "markers",
         "name": "2",
         "orientation": "v",
         "showlegend": true,
         "type": "scatter",
         "x": [
          22929.5,
          23825,
          10869,
          7674,
          4576,
          11355.5,
          16138.5,
          5809,
          9445,
          9983,
          7638,
          18118,
          16979,
          11893,
          1830.5,
          14110.5,
          1986.5,
          14966,
          4765,
          5205.5,
          6533.5,
          22720,
          6784.5,
          1611.5,
          3599,
          3791,
          4229.5,
          1377,
          6334.5,
          3422,
          4535,
          45765.5,
          5948.5,
          2011.5,
          25564.5,
          4781.5,
          2356,
          3651,
          5132.5,
          798.5,
          2109.5,
          2983,
          17054,
          3395.5,
          1551,
          1444,
          661,
          31208.5,
          7721.5,
          1832.5,
          731.5,
          727.5,
          50989.5,
          30312,
          25322.5,
          5036,
          10538.5,
          15073,
          2569,
          1471.5,
          953,
          218.5,
          10006.5,
          2786.5,
          1258,
          540.5,
          370
         ],
         "xaxis": "x",
         "y": [
          2667,
          216,
          2850,
          816,
          122,
          -191,
          -5101,
          1114,
          1508,
          -4338,
          252,
          892,
          182,
          584,
          -209,
          575,
          -653,
          1004,
          -1552,
          769,
          833,
          -2992,
          -303,
          -219,
          -246,
          -78,
          -109,
          -122,
          -157,
          -66,
          -2,
          -1859,
          -463,
          -255,
          -997,
          589,
          -432,
          382,
          -617,
          149,
          33,
          -44,
          1656,
          -907,
          -62,
          86,
          -160,
          205,
          1231,
          389,
          -227,
          -3,
          -1371,
          -3270,
          -1799,
          732,
          -353,
          5202,
          306,
          -345,
          54,
          65,
          347,
          271,
          -130,
          31,
          14
         ],
         "yaxis": "y"
        },
        {
         "customdata": [
          [
           "SFG_L"
          ],
          [
           "MFG_L"
          ],
          [
           "IFG_L"
          ],
          [
           "OG_L"
          ],
          [
           "RG_L"
          ],
          [
           "PoCG_L"
          ],
          [
           "PrCG_L"
          ],
          [
           "SPG_L"
          ],
          [
           "SMG_L"
          ],
          [
           "AG_L"
          ],
          [
           "PrCu_L"
          ],
          [
           "STG_L"
          ],
          [
           "MTG_L"
          ],
          [
           "ITG_L"
          ],
          [
           "Limbic_L"
          ],
          [
           "FuG_L"
          ],
          [
           "SOG_L"
          ],
          [
           "MOG_L"
          ],
          [
           "IOG_L"
          ],
          [
           "Cu_L"
          ],
          [
           "LG_L"
          ],
          [
           "Cingulate_L"
          ],
          [
           "Insula_L"
          ],
          [
           "Amyg_L"
          ],
          [
           "Hippo_L"
          ],
          [
           "Caud_L"
          ],
          [
           "Put_L"
          ],
          [
           "GP_L"
          ],
          [
           "Thalamus_L"
          ],
          [
           "BasalForebrain_L"
          ],
          [
           "midbrain_L"
          ],
          [
           "Cerebellum_L"
          ],
          [
           "Pons_L"
          ],
          [
           "Medulla_L"
          ],
          [
           "ant_DPWM_L"
          ],
          [
           "post_DPWM_L"
          ],
          [
           "GCC_L"
          ],
          [
           "BCC_L"
          ],
          [
           "SCC_L"
          ],
          [
           "PVA_posterior_L"
          ],
          [
           "ALIC_L"
          ],
          [
           "PLIC_L"
          ],
          [
           "inf_DPWM_L"
          ],
          [
           "CGC_L"
          ],
          [
           "CGH_L"
          ],
          [
           "Fx/ST_L"
          ],
          [
           "Fx_L"
          ],
          [
           "PeripheralParietalWM_L"
          ],
          [
           "AnteriorLateralVentricle_L"
          ],
          [
           "PosteriorLateralVentricle_L"
          ],
          [
           "InferiorLateralVentricle_L"
          ],
          [
           "PVA_anterior_L"
          ],
          [
           "PeripheralFrontalWM_L"
          ],
          [
           "PeripheralTemporalWM_L"
          ],
          [
           "PeripheralOccipitalWM_L"
          ],
          [
           "PeripheralCingulateWM_L"
          ],
          [
           "CerebellumWM_L"
          ],
          [
           "FrontSul_L"
          ],
          [
           "CentralSul_L"
          ],
          [
           "SylFrontSul_L"
          ],
          [
           "SylTempSul_L"
          ],
          [
           "SylParieSul_L"
          ],
          [
           "ParietSul_L"
          ],
          [
           "CinguSul_L"
          ],
          [
           "OcciptSul_L"
          ],
          [
           "TempSul_L"
          ],
          [
           "Caudate_tail_L"
          ]
         ],
         "hovertemplate": "ID=3<br>Mean (mm³)=%{x}<br>Difference (mm³)=%{y}<br>Object=%{customdata[0]}<extra></extra>",
         "legendgroup": "3",
         "marker": {
          "color": "#ab63fa",
          "size": 10,
          "symbol": "circle"
         },
         "mode": "markers",
         "name": "3",
         "orientation": "v",
         "showlegend": true,
         "type": "scatter",
         "x": [
          27847,
          26479,
          13646,
          10734,
          6937,
          14171,
          16238.5,
          7854,
          11082.5,
          10931.5,
          8680,
          19092,
          17529,
          10915,
          1939.5,
          15804,
          3077.5,
          18044,
          5761,
          6505.5,
          8482,
          27039,
          8328,
          1717,
          4120,
          3888.5,
          5005,
          1307.5,
          6058,
          3661,
          4894,
          48684,
          7527,
          2214.5,
          29373.5,
          5500.5,
          2797,
          3768.5,
          5824,
          687,
          2068.5,
          2743,
          20579,
          3485,
          1479,
          1362.5,
          695,
          38303,
          3283,
          1067,
          502,
          837.5,
          60128,
          30509.5,
          32542.5,
          6719.5,
          11335,
          10210.5,
          2230.5,
          1207,
          1061.5,
          174.5,
          8777.5,
          1541,
          1444,
          427,
          461.5
         ],
         "xaxis": "x",
         "y": [
          -116,
          -722,
          2624,
          -312,
          -430,
          24,
          -2759,
          2716,
          195,
          -5351,
          -508,
          436,
          818,
          -616,
          -223,
          678,
          31,
          -856,
          -50,
          283,
          754,
          -3450,
          -138,
          -332,
          80,
          31,
          -394,
          -37,
          -132,
          -212,
          226,
          -1028,
          -774,
          -159,
          -2259,
          795,
          -98,
          -123,
          -420,
          -66,
          -59,
          188,
          2546,
          78,
          102,
          219,
          -204,
          -542,
          -140,
          -492,
          116,
          -23,
          -216,
          -839,
          -1923,
          647,
          -400,
          3603,
          33,
          458,
          467,
          -221,
          -197,
          -258,
          -242,
          114,
          79
         ],
         "yaxis": "y"
        },
        {
         "customdata": [
          [
           "SFG_L"
          ],
          [
           "MFG_L"
          ],
          [
           "IFG_L"
          ],
          [
           "OG_L"
          ],
          [
           "RG_L"
          ],
          [
           "PoCG_L"
          ],
          [
           "PrCG_L"
          ],
          [
           "SPG_L"
          ],
          [
           "SMG_L"
          ],
          [
           "AG_L"
          ],
          [
           "PrCu_L"
          ],
          [
           "STG_L"
          ],
          [
           "MTG_L"
          ],
          [
           "ITG_L"
          ],
          [
           "Limbic_L"
          ],
          [
           "FuG_L"
          ],
          [
           "SOG_L"
          ],
          [
           "MOG_L"
          ],
          [
           "IOG_L"
          ],
          [
           "Cu_L"
          ],
          [
           "LG_L"
          ],
          [
           "Cingulate_L"
          ],
          [
           "Insula_L"
          ],
          [
           "Amyg_L"
          ],
          [
           "Hippo_L"
          ],
          [
           "Caud_L"
          ],
          [
           "Put_L"
          ],
          [
           "GP_L"
          ],
          [
           "Thalamus_L"
          ],
          [
           "BasalForebrain_L"
          ],
          [
           "midbrain_L"
          ],
          [
           "Cerebellum_L"
          ],
          [
           "Pons_L"
          ],
          [
           "Medulla_L"
          ],
          [
           "ant_DPWM_L"
          ],
          [
           "post_DPWM_L"
          ],
          [
           "GCC_L"
          ],
          [
           "BCC_L"
          ],
          [
           "SCC_L"
          ],
          [
           "PVA_posterior_L"
          ],
          [
           "ALIC_L"
          ],
          [
           "PLIC_L"
          ],
          [
           "inf_DPWM_L"
          ],
          [
           "CGC_L"
          ],
          [
           "CGH_L"
          ],
          [
           "Fx/ST_L"
          ],
          [
           "Fx_L"
          ],
          [
           "PeripheralParietalWM_L"
          ],
          [
           "AnteriorLateralVentricle_L"
          ],
          [
           "PosteriorLateralVentricle_L"
          ],
          [
           "InferiorLateralVentricle_L"
          ],
          [
           "PVA_anterior_L"
          ],
          [
           "PeripheralFrontalWM_L"
          ],
          [
           "PeripheralTemporalWM_L"
          ],
          [
           "PeripheralOccipitalWM_L"
          ],
          [
           "PeripheralCingulateWM_L"
          ],
          [
           "CerebellumWM_L"
          ],
          [
           "FrontSul_L"
          ],
          [
           "CentralSul_L"
          ],
          [
           "SylFrontSul_L"
          ],
          [
           "SylTempSul_L"
          ],
          [
           "SylParieSul_L"
          ],
          [
           "ParietSul_L"
          ],
          [
           "CinguSul_L"
          ],
          [
           "OcciptSul_L"
          ],
          [
           "TempSul_L"
          ],
          [
           "Caudate_tail_L"
          ]
         ],
         "hovertemplate": "ID=4<br>Mean (mm³)=%{x}<br>Difference (mm³)=%{y}<br>Object=%{customdata[0]}<extra></extra>",
         "legendgroup": "4",
         "marker": {
          "color": "#FFA15A",
          "size": 10,
          "symbol": "circle"
         },
         "mode": "markers",
         "name": "4",
         "orientation": "v",
         "showlegend": true,
         "type": "scatter",
         "x": [
          22882.5,
          22498,
          9350,
          8655,
          5751,
          11476,
          15613.5,
          6792,
          8652.5,
          9502,
          7261.5,
          19046.5,
          20520,
          12946.5,
          2331.5,
          15371.5,
          2688.5,
          14584.5,
          4043.5,
          6980.5,
          8424,
          23437,
          6504,
          1740,
          3916.5,
          4077,
          4943.5,
          1838,
          6712,
          3689,
          6131.5,
          57587.5,
          8672,
          2675,
          26757.5,
          5177.5,
          2539,
          3569.5,
          5484,
          995,
          2760.5,
          3580.5,
          19768,
          3365,
          1733.5,
          1670.5,
          584.5,
          33772.5,
          6388.5,
          2983,
          988,
          675.5,
          51898,
          34643.5,
          27055.5,
          5534,
          13569,
          17320,
          2608,
          1747,
          1871,
          261,
          11190.5,
          3690,
          2520,
          997.5,
          388
         ],
         "xaxis": "x",
         "y": [
          2769,
          -1348,
          1420,
          840,
          -202,
          710,
          -3045,
          1760,
          1047,
          -4718,
          261,
          395,
          3524,
          -393,
          -375,
          -901,
          91,
          -2891,
          -1843,
          157,
          -282,
          -1364,
          236,
          -388,
          -23,
          54,
          5,
          132,
          -228,
          146,
          529,
          -2267,
          -476,
          -420,
          1247,
          883,
          -126,
          -17,
          -964,
          -84,
          93,
          157,
          1104,
          -254,
          53,
          193,
          -91,
          843,
          -37,
          -1862,
          -278,
          -11,
          -2696,
          743,
          -6069,
          522,
          -914,
          4928,
          112,
          -584,
          478,
          50,
          -29,
          496,
          -40,
          -139,
          -2
         ],
         "yaxis": "y"
        },
        {
         "customdata": [
          [
           "SFG_L"
          ],
          [
           "MFG_L"
          ],
          [
           "IFG_L"
          ],
          [
           "OG_L"
          ],
          [
           "RG_L"
          ],
          [
           "PoCG_L"
          ],
          [
           "PrCG_L"
          ],
          [
           "SPG_L"
          ],
          [
           "SMG_L"
          ],
          [
           "AG_L"
          ],
          [
           "PrCu_L"
          ],
          [
           "STG_L"
          ],
          [
           "MTG_L"
          ],
          [
           "ITG_L"
          ],
          [
           "Limbic_L"
          ],
          [
           "FuG_L"
          ],
          [
           "SOG_L"
          ],
          [
           "MOG_L"
          ],
          [
           "IOG_L"
          ],
          [
           "Cu_L"
          ],
          [
           "LG_L"
          ],
          [
           "Cingulate_L"
          ],
          [
           "Insula_L"
          ],
          [
           "Amyg_L"
          ],
          [
           "Hippo_L"
          ],
          [
           "Caud_L"
          ],
          [
           "Put_L"
          ],
          [
           "GP_L"
          ],
          [
           "Thalamus_L"
          ],
          [
           "BasalForebrain_L"
          ],
          [
           "midbrain_L"
          ],
          [
           "Cerebellum_L"
          ],
          [
           "Pons_L"
          ],
          [
           "Medulla_L"
          ],
          [
           "ant_DPWM_L"
          ],
          [
           "post_DPWM_L"
          ],
          [
           "GCC_L"
          ],
          [
           "BCC_L"
          ],
          [
           "SCC_L"
          ],
          [
           "PVA_posterior_L"
          ],
          [
           "ALIC_L"
          ],
          [
           "PLIC_L"
          ],
          [
           "inf_DPWM_L"
          ],
          [
           "CGC_L"
          ],
          [
           "CGH_L"
          ],
          [
           "Fx/ST_L"
          ],
          [
           "Fx_L"
          ],
          [
           "PeripheralParietalWM_L"
          ],
          [
           "AnteriorLateralVentricle_L"
          ],
          [
           "PosteriorLateralVentricle_L"
          ],
          [
           "InferiorLateralVentricle_L"
          ],
          [
           "PVA_anterior_L"
          ],
          [
           "PeripheralFrontalWM_L"
          ],
          [
           "PeripheralTemporalWM_L"
          ],
          [
           "PeripheralOccipitalWM_L"
          ],
          [
           "PeripheralCingulateWM_L"
          ],
          [
           "CerebellumWM_L"
          ],
          [
           "FrontSul_L"
          ],
          [
           "CentralSul_L"
          ],
          [
           "SylFrontSul_L"
          ],
          [
           "SylTempSul_L"
          ],
          [
           "SylParieSul_L"
          ],
          [
           "ParietSul_L"
          ],
          [
           "CinguSul_L"
          ],
          [
           "OcciptSul_L"
          ],
          [
           "TempSul_L"
          ],
          [
           "Caudate_tail_L"
          ]
         ],
         "hovertemplate": "ID=5<br>Mean (mm³)=%{x}<br>Difference (mm³)=%{y}<br>Object=%{customdata[0]}<extra></extra>",
         "legendgroup": "5",
         "marker": {
          "color": "#19d3f3",
          "size": 10,
          "symbol": "circle"
         },
         "mode": "markers",
         "name": "5",
         "orientation": "v",
         "showlegend": true,
         "type": "scatter",
         "x": [
          25704.5,
          22401.5,
          10753,
          9026,
          5408.5,
          11278.5,
          16511.5,
          7513,
          9973,
          8777,
          7046,
          19037.5,
          18313,
          12239.5,
          2217.5,
          12942,
          2491,
          15767.5,
          4443.5,
          6288,
          8663.5,
          23796,
          7955,
          1853.5,
          3939.5,
          3834.5,
          5351,
          1721.5,
          6936.5,
          3933,
          5867.5,
          53786.5,
          9011.5,
          2792,
          29536,
          5629,
          3828.5,
          5446,
          7498,
          883.5,
          2465,
          3315.5,
          20303,
          3834,
          1756,
          1605,
          754.5,
          38268.5,
          7571,
          1538.5,
          684.5,
          862.5,
          61077.5,
          33600.5,
          26632,
          6212,
          12587.5,
          17163,
          2488.5,
          2924,
          2023.5,
          312,
          11448.5,
          3958.5,
          2979.5,
          733,
          460.5
         ],
         "xaxis": "x",
         "y": [
          739,
          167,
          1652,
          208,
          -553,
          -1509,
          -775,
          560,
          158,
          -3312,
          1568,
          379,
          1966,
          -1247,
          -381,
          -76,
          -310,
          565,
          -1011,
          144,
          1021,
          -980,
          -398,
          -293,
          59,
          -213,
          -66,
          125,
          -187,
          -34,
          -151,
          -1829,
          -889,
          -224,
          598,
          1326,
          -163,
          254,
          -530,
          129,
          26,
          177,
          1746,
          -520,
          -34,
          48,
          -279,
          -423,
          538,
          187,
          -19,
          -181,
          -1175,
          -2403,
          -428,
          1656,
          -143,
          1298,
          387,
          258,
          -477,
          348,
          -977,
          529,
          -207,
          -398,
          1
         ],
         "yaxis": "y"
        },
        {
         "customdata": [
          [
           "SFG_L"
          ],
          [
           "MFG_L"
          ],
          [
           "IFG_L"
          ],
          [
           "OG_L"
          ],
          [
           "RG_L"
          ],
          [
           "PoCG_L"
          ],
          [
           "PrCG_L"
          ],
          [
           "SPG_L"
          ],
          [
           "SMG_L"
          ],
          [
           "AG_L"
          ],
          [
           "PrCu_L"
          ],
          [
           "STG_L"
          ],
          [
           "MTG_L"
          ],
          [
           "ITG_L"
          ],
          [
           "Limbic_L"
          ],
          [
           "FuG_L"
          ],
          [
           "SOG_L"
          ],
          [
           "MOG_L"
          ],
          [
           "IOG_L"
          ],
          [
           "Cu_L"
          ],
          [
           "LG_L"
          ],
          [
           "Cingulate_L"
          ],
          [
           "Insula_L"
          ],
          [
           "Amyg_L"
          ],
          [
           "Hippo_L"
          ],
          [
           "Caud_L"
          ],
          [
           "Put_L"
          ],
          [
           "GP_L"
          ],
          [
           "Thalamus_L"
          ],
          [
           "BasalForebrain_L"
          ],
          [
           "midbrain_L"
          ],
          [
           "Cerebellum_L"
          ],
          [
           "Pons_L"
          ],
          [
           "Medulla_L"
          ],
          [
           "ant_DPWM_L"
          ],
          [
           "post_DPWM_L"
          ],
          [
           "GCC_L"
          ],
          [
           "BCC_L"
          ],
          [
           "SCC_L"
          ],
          [
           "PVA_posterior_L"
          ],
          [
           "ALIC_L"
          ],
          [
           "PLIC_L"
          ],
          [
           "inf_DPWM_L"
          ],
          [
           "CGC_L"
          ],
          [
           "CGH_L"
          ],
          [
           "Fx/ST_L"
          ],
          [
           "Fx_L"
          ],
          [
           "PeripheralParietalWM_L"
          ],
          [
           "AnteriorLateralVentricle_L"
          ],
          [
           "PosteriorLateralVentricle_L"
          ],
          [
           "InferiorLateralVentricle_L"
          ],
          [
           "PVA_anterior_L"
          ],
          [
           "PeripheralFrontalWM_L"
          ],
          [
           "PeripheralTemporalWM_L"
          ],
          [
           "PeripheralOccipitalWM_L"
          ],
          [
           "PeripheralCingulateWM_L"
          ],
          [
           "CerebellumWM_L"
          ],
          [
           "FrontSul_L"
          ],
          [
           "CentralSul_L"
          ],
          [
           "SylFrontSul_L"
          ],
          [
           "SylTempSul_L"
          ],
          [
           "SylParieSul_L"
          ],
          [
           "ParietSul_L"
          ],
          [
           "CinguSul_L"
          ],
          [
           "OcciptSul_L"
          ],
          [
           "TempSul_L"
          ],
          [
           "Caudate_tail_L"
          ]
         ],
         "hovertemplate": "ID=6<br>Mean (mm³)=%{x}<br>Difference (mm³)=%{y}<br>Object=%{customdata[0]}<extra></extra>",
         "legendgroup": "6",
         "marker": {
          "color": "#FF6692",
          "size": 10,
          "symbol": "circle"
         },
         "mode": "markers",
         "name": "6",
         "orientation": "v",
         "showlegend": true,
         "type": "scatter",
         "x": [
          23699,
          21458.5,
          9904.5,
          9778.5,
          5439,
          12321,
          13821.5,
          8599.5,
          10133,
          9603.5,
          9160,
          19345.5,
          17522,
          11815.5,
          1772,
          14617,
          2479.5,
          16383,
          4622.5,
          5390.5,
          6182,
          22521.5,
          7622,
          1693.5,
          3392,
          3494,
          4717,
          1521.5,
          6291.5,
          3645,
          5059,
          48953.5,
          7176.5,
          2628,
          27700.5,
          5926.5,
          3126,
          4330.5,
          6356,
          983,
          2228,
          2997.5,
          19827.5,
          3117.5,
          1503.5,
          1466.5,
          753.5,
          36550,
          7663.5,
          2504,
          887.5,
          788,
          49491.5,
          31563.5,
          27231.5,
          5415.5,
          12567.5,
          12730,
          2212,
          1655,
          1113,
          172.5,
          11031.5,
          2771,
          1505,
          452.5,
          372.5
         ],
         "xaxis": "x",
         "y": [
          -1426,
          2255,
          517,
          891,
          114,
          -126,
          -1317,
          2457,
          -138,
          -3435,
          1174,
          -1641,
          -716,
          -1613,
          -104,
          -268,
          -51,
          2442,
          -971,
          745,
          1092,
          -1803,
          -558,
          -225,
          -180,
          -16,
          -42,
          -117,
          183,
          -82,
          -238,
          221,
          -605,
          -348,
          179,
          1043,
          28,
          -83,
          -640,
          -48,
          52,
          -135,
          1563,
          -217,
          9,
          -55,
          -191,
          -2244,
          65,
          328,
          -185,
          88,
          -2269,
          -3825,
          -1345,
          711,
          -315,
          3586,
          -74,
          -84,
          114,
          -1,
          817,
          438,
          -156,
          47,
          -43
         ],
         "yaxis": "y"
        },
        {
         "customdata": [
          [
           "SFG_L"
          ],
          [
           "MFG_L"
          ],
          [
           "IFG_L"
          ],
          [
           "OG_L"
          ],
          [
           "RG_L"
          ],
          [
           "PoCG_L"
          ],
          [
           "PrCG_L"
          ],
          [
           "SPG_L"
          ],
          [
           "SMG_L"
          ],
          [
           "AG_L"
          ],
          [
           "PrCu_L"
          ],
          [
           "STG_L"
          ],
          [
           "MTG_L"
          ],
          [
           "ITG_L"
          ],
          [
           "Limbic_L"
          ],
          [
           "FuG_L"
          ],
          [
           "SOG_L"
          ],
          [
           "MOG_L"
          ],
          [
           "IOG_L"
          ],
          [
           "Cu_L"
          ],
          [
           "LG_L"
          ],
          [
           "Cingulate_L"
          ],
          [
           "Insula_L"
          ],
          [
           "Amyg_L"
          ],
          [
           "Hippo_L"
          ],
          [
           "Caud_L"
          ],
          [
           "Put_L"
          ],
          [
           "GP_L"
          ],
          [
           "Thalamus_L"
          ],
          [
           "BasalForebrain_L"
          ],
          [
           "midbrain_L"
          ],
          [
           "Cerebellum_L"
          ],
          [
           "Pons_L"
          ],
          [
           "Medulla_L"
          ],
          [
           "ant_DPWM_L"
          ],
          [
           "post_DPWM_L"
          ],
          [
           "GCC_L"
          ],
          [
           "BCC_L"
          ],
          [
           "SCC_L"
          ],
          [
           "PVA_posterior_L"
          ],
          [
           "ALIC_L"
          ],
          [
           "PLIC_L"
          ],
          [
           "inf_DPWM_L"
          ],
          [
           "CGC_L"
          ],
          [
           "CGH_L"
          ],
          [
           "Fx/ST_L"
          ],
          [
           "Fx_L"
          ],
          [
           "PeripheralParietalWM_L"
          ],
          [
           "AnteriorLateralVentricle_L"
          ],
          [
           "PosteriorLateralVentricle_L"
          ],
          [
           "InferiorLateralVentricle_L"
          ],
          [
           "PVA_anterior_L"
          ],
          [
           "PeripheralFrontalWM_L"
          ],
          [
           "PeripheralTemporalWM_L"
          ],
          [
           "PeripheralOccipitalWM_L"
          ],
          [
           "PeripheralCingulateWM_L"
          ],
          [
           "CerebellumWM_L"
          ],
          [
           "FrontSul_L"
          ],
          [
           "CentralSul_L"
          ],
          [
           "SylFrontSul_L"
          ],
          [
           "SylTempSul_L"
          ],
          [
           "SylParieSul_L"
          ],
          [
           "ParietSul_L"
          ],
          [
           "CinguSul_L"
          ],
          [
           "OcciptSul_L"
          ],
          [
           "TempSul_L"
          ],
          [
           "Caudate_tail_L"
          ]
         ],
         "hovertemplate": "ID=7<br>Mean (mm³)=%{x}<br>Difference (mm³)=%{y}<br>Object=%{customdata[0]}<extra></extra>",
         "legendgroup": "7",
         "marker": {
          "color": "#B6E880",
          "size": 10,
          "symbol": "circle"
         },
         "mode": "markers",
         "name": "7",
         "orientation": "v",
         "showlegend": true,
         "type": "scatter",
         "x": [
          21506,
          20059,
          8805.5,
          7874.5,
          4652.5,
          9740,
          13273.5,
          6104,
          7841,
          8596,
          6237.5,
          16877,
          14359,
          9925.5,
          2016,
          11868,
          2629,
          13800,
          3819,
          6124,
          7157,
          20602.5,
          6339,
          1641,
          3696,
          3350,
          4241,
          1334,
          5284,
          3452.5,
          4549,
          47457,
          7429,
          2121,
          26700.5,
          5341,
          2517,
          3961,
          5202,
          962,
          2006.5,
          2843.5,
          19560,
          2909.5,
          1597,
          1338,
          573,
          30128,
          10978,
          2545,
          908,
          793,
          47645.5,
          27586.5,
          27515.5,
          5178,
          11464,
          11537.5,
          2028.5,
          1028.5,
          1060,
          98,
          6451,
          1193,
          1095,
          355.5,
          420
         ],
         "xaxis": "x",
         "y": [
          1756,
          934,
          1137,
          -253,
          -107,
          1208,
          -2287,
          1434,
          1334,
          -5124,
          99,
          -146,
          -1078,
          -1795,
          -234,
          764,
          -178,
          1448,
          470,
          964,
          378,
          -1137,
          138,
          -230,
          -40,
          -312,
          74,
          -24,
          -48,
          -67,
          -130,
          858,
          70,
          -142,
          487,
          640,
          -402,
          -786,
          -424,
          -80,
          -149,
          67,
          1888,
          -151,
          104,
          -20,
          -126,
          988,
          -4604,
          -806,
          -328,
          -98,
          -1477,
          -3193,
          -961,
          620,
          -404,
          4549,
          459,
          457,
          874,
          128,
          14,
          -78,
          318,
          175,
          32
         ],
         "yaxis": "y"
        },
        {
         "customdata": [
          [
           "SFG_L"
          ],
          [
           "MFG_L"
          ],
          [
           "IFG_L"
          ],
          [
           "OG_L"
          ],
          [
           "RG_L"
          ],
          [
           "PoCG_L"
          ],
          [
           "PrCG_L"
          ],
          [
           "SPG_L"
          ],
          [
           "SMG_L"
          ],
          [
           "AG_L"
          ],
          [
           "PrCu_L"
          ],
          [
           "STG_L"
          ],
          [
           "MTG_L"
          ],
          [
           "ITG_L"
          ],
          [
           "Limbic_L"
          ],
          [
           "FuG_L"
          ],
          [
           "SOG_L"
          ],
          [
           "MOG_L"
          ],
          [
           "IOG_L"
          ],
          [
           "Cu_L"
          ],
          [
           "LG_L"
          ],
          [
           "Cingulate_L"
          ],
          [
           "Insula_L"
          ],
          [
           "Amyg_L"
          ],
          [
           "Hippo_L"
          ],
          [
           "Caud_L"
          ],
          [
           "Put_L"
          ],
          [
           "GP_L"
          ],
          [
           "Thalamus_L"
          ],
          [
           "BasalForebrain_L"
          ],
          [
           "midbrain_L"
          ],
          [
           "Cerebellum_L"
          ],
          [
           "Pons_L"
          ],
          [
           "Medulla_L"
          ],
          [
           "ant_DPWM_L"
          ],
          [
           "post_DPWM_L"
          ],
          [
           "GCC_L"
          ],
          [
           "BCC_L"
          ],
          [
           "SCC_L"
          ],
          [
           "PVA_posterior_L"
          ],
          [
           "ALIC_L"
          ],
          [
           "PLIC_L"
          ],
          [
           "inf_DPWM_L"
          ],
          [
           "CGC_L"
          ],
          [
           "CGH_L"
          ],
          [
           "Fx/ST_L"
          ],
          [
           "Fx_L"
          ],
          [
           "PeripheralParietalWM_L"
          ],
          [
           "AnteriorLateralVentricle_L"
          ],
          [
           "PosteriorLateralVentricle_L"
          ],
          [
           "InferiorLateralVentricle_L"
          ],
          [
           "PVA_anterior_L"
          ],
          [
           "PeripheralFrontalWM_L"
          ],
          [
           "PeripheralTemporalWM_L"
          ],
          [
           "PeripheralOccipitalWM_L"
          ],
          [
           "PeripheralCingulateWM_L"
          ],
          [
           "CerebellumWM_L"
          ],
          [
           "FrontSul_L"
          ],
          [
           "CentralSul_L"
          ],
          [
           "SylFrontSul_L"
          ],
          [
           "SylTempSul_L"
          ],
          [
           "SylParieSul_L"
          ],
          [
           "ParietSul_L"
          ],
          [
           "CinguSul_L"
          ],
          [
           "OcciptSul_L"
          ],
          [
           "TempSul_L"
          ],
          [
           "Caudate_tail_L"
          ]
         ],
         "hovertemplate": "ID=8<br>Mean (mm³)=%{x}<br>Difference (mm³)=%{y}<br>Object=%{customdata[0]}<extra></extra>",
         "legendgroup": "8",
         "marker": {
          "color": "#FF97FF",
          "size": 10,
          "symbol": "circle"
         },
         "mode": "markers",
         "name": "8",
         "orientation": "v",
         "showlegend": true,
         "type": "scatter",
         "x": [
          27384,
          24212,
          10445,
          9724,
          5498.5,
          11222.5,
          16597,
          8138,
          8527.5,
          10475.5,
          7840.5,
          19380,
          17853.5,
          11450.5,
          2042,
          15925,
          2230,
          14781.5,
          4610.5,
          5598,
          7841.5,
          26044.5,
          7494,
          2284.5,
          4285.5,
          3841.5,
          4790.5,
          1596,
          6333,
          4154.5,
          6053,
          54667.5,
          9513.5,
          2413,
          32870,
          6784,
          3374.5,
          4117,
          7556.5,
          984.5,
          2501.5,
          3415.5,
          21004,
          3611.5,
          1948.5,
          1587,
          847,
          39722.5,
          6045,
          2064.5,
          852,
          950,
          62504,
          36384.5,
          29937.5,
          7535,
          14150.5,
          8771,
          1803.5,
          1224.5,
          988,
          148.5,
          6969,
          1360.5,
          1304,
          370.5,
          478
         ],
         "xaxis": "x",
         "y": [
          -168,
          120,
          -396,
          166,
          -137,
          593,
          -2630,
          676,
          -1181,
          -5029,
          -303,
          412,
          1335,
          -253,
          244,
          1466,
          64,
          723,
          -1883,
          642,
          1171,
          -5317,
          96,
          -327,
          -99,
          -17,
          -239,
          -84,
          -222,
          -55,
          26,
          125,
          -479,
          -284,
          -2284,
          240,
          -515,
          40,
          -713,
          -39,
          -233,
          -15,
          2578,
          -751,
          93,
          186,
          -302,
          -1607,
          -110,
          -293,
          -256,
          32,
          -3876,
          -1053,
          -1415,
          1186,
          -797,
          1716,
          311,
          165,
          564,
          -1,
          -330,
          -61,
          -372,
          179,
          32
         ],
         "yaxis": "y"
        },
        {
         "customdata": [
          [
           "SFG_L"
          ],
          [
           "MFG_L"
          ],
          [
           "IFG_L"
          ],
          [
           "OG_L"
          ],
          [
           "RG_L"
          ],
          [
           "PoCG_L"
          ],
          [
           "PrCG_L"
          ],
          [
           "SPG_L"
          ],
          [
           "SMG_L"
          ],
          [
           "AG_L"
          ],
          [
           "PrCu_L"
          ],
          [
           "STG_L"
          ],
          [
           "MTG_L"
          ],
          [
           "ITG_L"
          ],
          [
           "Limbic_L"
          ],
          [
           "FuG_L"
          ],
          [
           "SOG_L"
          ],
          [
           "MOG_L"
          ],
          [
           "IOG_L"
          ],
          [
           "Cu_L"
          ],
          [
           "LG_L"
          ],
          [
           "Cingulate_L"
          ],
          [
           "Insula_L"
          ],
          [
           "Amyg_L"
          ],
          [
           "Hippo_L"
          ],
          [
           "Caud_L"
          ],
          [
           "Put_L"
          ],
          [
           "GP_L"
          ],
          [
           "Thalamus_L"
          ],
          [
           "BasalForebrain_L"
          ],
          [
           "midbrain_L"
          ],
          [
           "Cerebellum_L"
          ],
          [
           "Pons_L"
          ],
          [
           "Medulla_L"
          ],
          [
           "ant_DPWM_L"
          ],
          [
           "post_DPWM_L"
          ],
          [
           "GCC_L"
          ],
          [
           "BCC_L"
          ],
          [
           "SCC_L"
          ],
          [
           "PVA_posterior_L"
          ],
          [
           "ALIC_L"
          ],
          [
           "PLIC_L"
          ],
          [
           "inf_DPWM_L"
          ],
          [
           "CGC_L"
          ],
          [
           "CGH_L"
          ],
          [
           "Fx/ST_L"
          ],
          [
           "Fx_L"
          ],
          [
           "PeripheralParietalWM_L"
          ],
          [
           "AnteriorLateralVentricle_L"
          ],
          [
           "PosteriorLateralVentricle_L"
          ],
          [
           "InferiorLateralVentricle_L"
          ],
          [
           "PVA_anterior_L"
          ],
          [
           "PeripheralFrontalWM_L"
          ],
          [
           "PeripheralTemporalWM_L"
          ],
          [
           "PeripheralOccipitalWM_L"
          ],
          [
           "PeripheralCingulateWM_L"
          ],
          [
           "CerebellumWM_L"
          ],
          [
           "FrontSul_L"
          ],
          [
           "CentralSul_L"
          ],
          [
           "SylFrontSul_L"
          ],
          [
           "SylTempSul_L"
          ],
          [
           "SylParieSul_L"
          ],
          [
           "ParietSul_L"
          ],
          [
           "CinguSul_L"
          ],
          [
           "OcciptSul_L"
          ],
          [
           "TempSul_L"
          ],
          [
           "Caudate_tail_L"
          ]
         ],
         "hovertemplate": "ID=9<br>Mean (mm³)=%{x}<br>Difference (mm³)=%{y}<br>Object=%{customdata[0]}<extra></extra>",
         "legendgroup": "9",
         "marker": {
          "color": "#FECB52",
          "size": 10,
          "symbol": "circle"
         },
         "mode": "markers",
         "name": "9",
         "orientation": "v",
         "showlegend": true,
         "type": "scatter",
         "x": [
          23529.5,
          21526,
          10910.5,
          8532.5,
          5322.5,
          10488.5,
          16014,
          6665.5,
          8779,
          8605.5,
          7377.5,
          16555,
          15732.5,
          11139,
          2103,
          13703,
          2371.5,
          12205,
          3192.5,
          4883.5,
          7610.5,
          24948,
          7043.5,
          1973.5,
          4006,
          3858.5,
          5049.5,
          1544.5,
          6078,
          3687,
          5490,
          53339.5,
          7472.5,
          2179.5,
          26382,
          4696,
          2392,
          3543,
          4840,
          749,
          2223.5,
          3085.5,
          18691.5,
          3442,
          1495.5,
          1462,
          659,
          32629,
          5449,
          1369.5,
          748.5,
          751,
          53512,
          28675.5,
          24945,
          5533.5,
          11675,
          7904,
          1796,
          624,
          429,
          144,
          6359.5,
          858,
          739.5,
          246.5,
          477
         ],
         "xaxis": "x",
         "y": [
          -887,
          -416,
          1555,
          531,
          -255,
          -675,
          -404,
          863,
          218,
          -3237,
          277,
          -98,
          -319,
          -1442,
          -302,
          234,
          -231,
          2182,
          -175,
          965,
          -43,
          -1444,
          475,
          -121,
          -212,
          105,
          -135,
          7,
          -104,
          2,
          -114,
          -595,
          -761,
          -105,
          -450,
          744,
          -244,
          -182,
          -350,
          -36,
          -13,
          51,
          1863,
          -662,
          -113,
          72,
          -78,
          -1578,
          650,
          139,
          -361,
          20,
          -2134,
          -2565,
          -878,
          1555,
          -382,
          2920,
          520,
          80,
          -34,
          108,
          -41,
          292,
          75,
          -5,
          -26
         ],
         "yaxis": "y"
        },
        {
         "customdata": [
          [
           "SFG_L"
          ],
          [
           "MFG_L"
          ],
          [
           "IFG_L"
          ],
          [
           "OG_L"
          ],
          [
           "RG_L"
          ],
          [
           "PoCG_L"
          ],
          [
           "PrCG_L"
          ],
          [
           "SPG_L"
          ],
          [
           "SMG_L"
          ],
          [
           "AG_L"
          ],
          [
           "PrCu_L"
          ],
          [
           "STG_L"
          ],
          [
           "MTG_L"
          ],
          [
           "ITG_L"
          ],
          [
           "Limbic_L"
          ],
          [
           "FuG_L"
          ],
          [
           "SOG_L"
          ],
          [
           "MOG_L"
          ],
          [
           "IOG_L"
          ],
          [
           "Cu_L"
          ],
          [
           "LG_L"
          ],
          [
           "Cingulate_L"
          ],
          [
           "Insula_L"
          ],
          [
           "Amyg_L"
          ],
          [
           "Hippo_L"
          ],
          [
           "Caud_L"
          ],
          [
           "Put_L"
          ],
          [
           "GP_L"
          ],
          [
           "Thalamus_L"
          ],
          [
           "BasalForebrain_L"
          ],
          [
           "midbrain_L"
          ],
          [
           "Cerebellum_L"
          ],
          [
           "Pons_L"
          ],
          [
           "Medulla_L"
          ],
          [
           "ant_DPWM_L"
          ],
          [
           "post_DPWM_L"
          ],
          [
           "GCC_L"
          ],
          [
           "BCC_L"
          ],
          [
           "SCC_L"
          ],
          [
           "PVA_posterior_L"
          ],
          [
           "ALIC_L"
          ],
          [
           "PLIC_L"
          ],
          [
           "inf_DPWM_L"
          ],
          [
           "CGC_L"
          ],
          [
           "CGH_L"
          ],
          [
           "Fx/ST_L"
          ],
          [
           "Fx_L"
          ],
          [
           "PeripheralParietalWM_L"
          ],
          [
           "AnteriorLateralVentricle_L"
          ],
          [
           "PosteriorLateralVentricle_L"
          ],
          [
           "InferiorLateralVentricle_L"
          ],
          [
           "PVA_anterior_L"
          ],
          [
           "PeripheralFrontalWM_L"
          ],
          [
           "PeripheralTemporalWM_L"
          ],
          [
           "PeripheralOccipitalWM_L"
          ],
          [
           "PeripheralCingulateWM_L"
          ],
          [
           "CerebellumWM_L"
          ],
          [
           "FrontSul_L"
          ],
          [
           "CentralSul_L"
          ],
          [
           "SylFrontSul_L"
          ],
          [
           "SylTempSul_L"
          ],
          [
           "SylParieSul_L"
          ],
          [
           "ParietSul_L"
          ],
          [
           "CinguSul_L"
          ],
          [
           "OcciptSul_L"
          ],
          [
           "TempSul_L"
          ],
          [
           "Caudate_tail_L"
          ]
         ],
         "hovertemplate": "ID=10<br>Mean (mm³)=%{x}<br>Difference (mm³)=%{y}<br>Object=%{customdata[0]}<extra></extra>",
         "legendgroup": "10",
         "marker": {
          "color": "#636efa",
          "size": 10,
          "symbol": "circle"
         },
         "mode": "markers",
         "name": "10",
         "orientation": "v",
         "showlegend": true,
         "type": "scatter",
         "x": [
          21481,
          19149,
          8611.5,
          8802.5,
          4573.5,
          10038.5,
          11907,
          6977,
          7246.5,
          9097.5,
          6399,
          17206,
          16515,
          11137,
          1823,
          14628.5,
          2802.5,
          16642,
          4282,
          5628,
          8299,
          20552.5,
          6139.5,
          1535.5,
          3579.5,
          3763.5,
          4371.5,
          1508,
          5926,
          3753.5,
          5247.5,
          63823,
          9534,
          2440.5,
          31132.5,
          6040.5,
          2621,
          4646.5,
          6306,
          1220.5,
          2349,
          3043.5,
          21337.5,
          3154,
          1659,
          1431.5,
          815.5,
          31360,
          13799,
          4504.5,
          985.5,
          968,
          46648,
          31849,
          28665,
          4876.5,
          15862,
          17554.5,
          2001,
          3200.5,
          2173,
          331.5,
          8219,
          3949,
          2528.5,
          1161.5,
          435
         ],
         "xaxis": "x",
         "y": [
          1472,
          1842,
          893,
          -33,
          -29,
          -103,
          -2194,
          1982,
          -435,
          -4215,
          802,
          1216,
          1118,
          -1914,
          -334,
          223,
          -19,
          1970,
          -722,
          -180,
          -546,
          -1049,
          -321,
          -601,
          63,
          -219,
          -129,
          -108,
          244,
          -141,
          -349,
          -526,
          -360,
          -599,
          -301,
          219,
          126,
          -47,
          20,
          127,
          98,
          75,
          1709,
          -944,
          -162,
          -99,
          -275,
          -1320,
          648,
          1539,
          19,
          52,
          -700,
          -2192,
          -1298,
          1611,
          190,
          6393,
          -50,
          581,
          436,
          123,
          -90,
          -310,
          605,
          507,
          -6
         ],
         "yaxis": "y"
        },
        {
         "customdata": [
          [
           "SFG_L"
          ],
          [
           "MFG_L"
          ],
          [
           "IFG_L"
          ],
          [
           "OG_L"
          ],
          [
           "RG_L"
          ],
          [
           "PoCG_L"
          ],
          [
           "PrCG_L"
          ],
          [
           "SPG_L"
          ],
          [
           "SMG_L"
          ],
          [
           "AG_L"
          ],
          [
           "PrCu_L"
          ],
          [
           "STG_L"
          ],
          [
           "MTG_L"
          ],
          [
           "ITG_L"
          ],
          [
           "Limbic_L"
          ],
          [
           "FuG_L"
          ],
          [
           "SOG_L"
          ],
          [
           "MOG_L"
          ],
          [
           "IOG_L"
          ],
          [
           "Cu_L"
          ],
          [
           "LG_L"
          ],
          [
           "Cingulate_L"
          ],
          [
           "Insula_L"
          ],
          [
           "Amyg_L"
          ],
          [
           "Hippo_L"
          ],
          [
           "Caud_L"
          ],
          [
           "Put_L"
          ],
          [
           "GP_L"
          ],
          [
           "Thalamus_L"
          ],
          [
           "BasalForebrain_L"
          ],
          [
           "midbrain_L"
          ],
          [
           "Cerebellum_L"
          ],
          [
           "Pons_L"
          ],
          [
           "Medulla_L"
          ],
          [
           "ant_DPWM_L"
          ],
          [
           "post_DPWM_L"
          ],
          [
           "GCC_L"
          ],
          [
           "BCC_L"
          ],
          [
           "SCC_L"
          ],
          [
           "PVA_posterior_L"
          ],
          [
           "ALIC_L"
          ],
          [
           "PLIC_L"
          ],
          [
           "inf_DPWM_L"
          ],
          [
           "CGC_L"
          ],
          [
           "CGH_L"
          ],
          [
           "Fx/ST_L"
          ],
          [
           "Fx_L"
          ],
          [
           "PeripheralParietalWM_L"
          ],
          [
           "AnteriorLateralVentricle_L"
          ],
          [
           "PosteriorLateralVentricle_L"
          ],
          [
           "InferiorLateralVentricle_L"
          ],
          [
           "PVA_anterior_L"
          ],
          [
           "PeripheralFrontalWM_L"
          ],
          [
           "PeripheralTemporalWM_L"
          ],
          [
           "PeripheralOccipitalWM_L"
          ],
          [
           "PeripheralCingulateWM_L"
          ],
          [
           "CerebellumWM_L"
          ],
          [
           "FrontSul_L"
          ],
          [
           "CentralSul_L"
          ],
          [
           "SylFrontSul_L"
          ],
          [
           "SylTempSul_L"
          ],
          [
           "SylParieSul_L"
          ],
          [
           "ParietSul_L"
          ],
          [
           "CinguSul_L"
          ],
          [
           "OcciptSul_L"
          ],
          [
           "TempSul_L"
          ],
          [
           "Caudate_tail_L"
          ]
         ],
         "hovertemplate": "ID=11<br>Mean (mm³)=%{x}<br>Difference (mm³)=%{y}<br>Object=%{customdata[0]}<extra></extra>",
         "legendgroup": "11",
         "marker": {
          "color": "#EF553B",
          "size": 10,
          "symbol": "circle"
         },
         "mode": "markers",
         "name": "11",
         "orientation": "v",
         "showlegend": true,
         "type": "scatter",
         "x": [
          20776,
          17332,
          7562.5,
          6908,
          3699,
          8841,
          11431,
          6544.5,
          7429,
          7388,
          4938,
          14528.5,
          14431.5,
          9894.5,
          1670.5,
          10303,
          2602,
          12681,
          3268,
          4174.5,
          5437,
          16204,
          5081.5,
          1510,
          3082.5,
          2628.5,
          3233.5,
          1003,
          4865,
          3063,
          3643,
          41698.5,
          5092.5,
          1607,
          20501.5,
          3664.5,
          1606.5,
          2402.5,
          4178.5,
          534.5,
          1558,
          2120,
          13814,
          1976.5,
          1269,
          1157,
          530.5,
          24619.5,
          3300,
          1291,
          611.5,
          441,
          37195.5,
          21164.5,
          19073.5,
          3507.5,
          9633.5,
          8154.5,
          1492,
          1100,
          845,
          119,
          5506,
          1488,
          873,
          464,
          294.5
         ],
         "xaxis": "x",
         "y": [
          1804,
          -152,
          1591,
          180,
          -22,
          26,
          -1868,
          2797,
          -476,
          -3768,
          -72,
          -373,
          2345,
          -555,
          65,
          448,
          -140,
          -2494,
          -1466,
          601,
          -254,
          -646,
          -293,
          -304,
          -109,
          -165,
          1,
          -112,
          -378,
          -14,
          102,
          1467,
          -297,
          -110,
          493,
          529,
          -291,
          53,
          -307,
          41,
          84,
          68,
          1052,
          -59,
          70,
          6,
          -115,
          -185,
          232,
          190,
          -277,
          0,
          -1975,
          -1441,
          -2377,
          573,
          -767,
          2431,
          50,
          -56,
          162,
          134,
          -118,
          72,
          -454,
          -92,
          7
         ],
         "yaxis": "y"
        },
        {
         "customdata": [
          [
           "SFG_L"
          ],
          [
           "MFG_L"
          ],
          [
           "IFG_L"
          ],
          [
           "OG_L"
          ],
          [
           "RG_L"
          ],
          [
           "PoCG_L"
          ],
          [
           "PrCG_L"
          ],
          [
           "SPG_L"
          ],
          [
           "SMG_L"
          ],
          [
           "AG_L"
          ],
          [
           "PrCu_L"
          ],
          [
           "STG_L"
          ],
          [
           "MTG_L"
          ],
          [
           "ITG_L"
          ],
          [
           "Limbic_L"
          ],
          [
           "FuG_L"
          ],
          [
           "SOG_L"
          ],
          [
           "MOG_L"
          ],
          [
           "IOG_L"
          ],
          [
           "Cu_L"
          ],
          [
           "LG_L"
          ],
          [
           "Cingulate_L"
          ],
          [
           "Insula_L"
          ],
          [
           "Amyg_L"
          ],
          [
           "Hippo_L"
          ],
          [
           "Caud_L"
          ],
          [
           "Put_L"
          ],
          [
           "GP_L"
          ],
          [
           "Thalamus_L"
          ],
          [
           "BasalForebrain_L"
          ],
          [
           "midbrain_L"
          ],
          [
           "Cerebellum_L"
          ],
          [
           "Pons_L"
          ],
          [
           "Medulla_L"
          ],
          [
           "ant_DPWM_L"
          ],
          [
           "post_DPWM_L"
          ],
          [
           "GCC_L"
          ],
          [
           "BCC_L"
          ],
          [
           "SCC_L"
          ],
          [
           "PVA_posterior_L"
          ],
          [
           "ALIC_L"
          ],
          [
           "PLIC_L"
          ],
          [
           "inf_DPWM_L"
          ],
          [
           "CGC_L"
          ],
          [
           "CGH_L"
          ],
          [
           "Fx/ST_L"
          ],
          [
           "Fx_L"
          ],
          [
           "PeripheralParietalWM_L"
          ],
          [
           "AnteriorLateralVentricle_L"
          ],
          [
           "PosteriorLateralVentricle_L"
          ],
          [
           "InferiorLateralVentricle_L"
          ],
          [
           "PVA_anterior_L"
          ],
          [
           "PeripheralFrontalWM_L"
          ],
          [
           "PeripheralTemporalWM_L"
          ],
          [
           "PeripheralOccipitalWM_L"
          ],
          [
           "PeripheralCingulateWM_L"
          ],
          [
           "CerebellumWM_L"
          ],
          [
           "FrontSul_L"
          ],
          [
           "CentralSul_L"
          ],
          [
           "SylFrontSul_L"
          ],
          [
           "SylTempSul_L"
          ],
          [
           "SylParieSul_L"
          ],
          [
           "ParietSul_L"
          ],
          [
           "CinguSul_L"
          ],
          [
           "OcciptSul_L"
          ],
          [
           "TempSul_L"
          ],
          [
           "Caudate_tail_L"
          ]
         ],
         "hovertemplate": "ID=12<br>Mean (mm³)=%{x}<br>Difference (mm³)=%{y}<br>Object=%{customdata[0]}<extra></extra>",
         "legendgroup": "12",
         "marker": {
          "color": "#00cc96",
          "size": 10,
          "symbol": "circle"
         },
         "mode": "markers",
         "name": "12",
         "orientation": "v",
         "showlegend": true,
         "type": "scatter",
         "x": [
          25796.5,
          27266.5,
          10481.5,
          8974,
          5526.5,
          11477,
          16472,
          7432.5,
          8541.5,
          9215,
          7381.5,
          18863,
          20012,
          13695,
          2582.5,
          15713.5,
          2814.5,
          16091,
          4769.5,
          7571.5,
          9770.5,
          24689,
          7151.5,
          2083.5,
          4187.5,
          3939.5,
          4737,
          1447.5,
          6298.5,
          3708.5,
          5486,
          55801.5,
          8231.5,
          2282,
          31507,
          5442,
          2883,
          4278.5,
          6277,
          699,
          2131,
          2920,
          21159,
          3386.5,
          1832.5,
          1599,
          689.5,
          33961.5,
          3677,
          1136.5,
          717.5,
          804.5,
          53013,
          29792,
          27104.5,
          5710,
          12494,
          14283,
          2626.5,
          2608,
          1594,
          367,
          10233.5,
          3950,
          2881.5,
          811.5,
          429.5
         ],
         "xaxis": "x",
         "y": [
          1315,
          -251,
          3517,
          584,
          -441,
          -886,
          -3132,
          1849,
          -915,
          -5614,
          -403,
          -72,
          834,
          -2382,
          -455,
          35,
          699,
          886,
          -1259,
          223,
          913,
          -2082,
          -101,
          -189,
          -251,
          -429,
          126,
          7,
          -397,
          -67,
          -32,
          -281,
          -1055,
          -600,
          -1770,
          460,
          -122,
          -151,
          -448,
          -42,
          -78,
          68,
          1598,
          427,
          -65,
          180,
          -133,
          -4099,
          38,
          85,
          -75,
          -135,
          -2028,
          -2068,
          -1103,
          772,
          -980,
          5926,
          419,
          364,
          190,
          82,
          351,
          856,
          -221,
          233,
          -99
         ],
         "yaxis": "y"
        }
       ],
       "layout": {
        "legend": {
         "title": {
          "text": "ID"
         },
         "tracegroupgap": 0
        },
        "template": {
         "data": {
          "bar": [
           {
            "error_x": {
             "color": "#2a3f5f"
            },
            "error_y": {
             "color": "#2a3f5f"
            },
            "marker": {
             "line": {
              "color": "#E5ECF6",
              "width": 0.5
             },
             "pattern": {
              "fillmode": "overlay",
              "size": 10,
              "solidity": 0.2
             }
            },
            "type": "bar"
           }
          ],
          "barpolar": [
           {
            "marker": {
             "line": {
              "color": "#E5ECF6",
              "width": 0.5
             },
             "pattern": {
              "fillmode": "overlay",
              "size": 10,
              "solidity": 0.2
             }
            },
            "type": "barpolar"
           }
          ],
          "carpet": [
           {
            "aaxis": {
             "endlinecolor": "#2a3f5f",
             "gridcolor": "white",
             "linecolor": "white",
             "minorgridcolor": "white",
             "startlinecolor": "#2a3f5f"
            },
            "baxis": {
             "endlinecolor": "#2a3f5f",
             "gridcolor": "white",
             "linecolor": "white",
             "minorgridcolor": "white",
             "startlinecolor": "#2a3f5f"
            },
            "type": "carpet"
           }
          ],
          "choropleth": [
           {
            "colorbar": {
             "outlinewidth": 0,
             "ticks": ""
            },
            "type": "choropleth"
           }
          ],
          "contour": [
           {
            "colorbar": {
             "outlinewidth": 0,
             "ticks": ""
            },
            "colorscale": [
             [
              0,
              "#0d0887"
             ],
             [
              0.1111111111111111,
              "#46039f"
             ],
             [
              0.2222222222222222,
              "#7201a8"
             ],
             [
              0.3333333333333333,
              "#9c179e"
             ],
             [
              0.4444444444444444,
              "#bd3786"
             ],
             [
              0.5555555555555556,
              "#d8576b"
             ],
             [
              0.6666666666666666,
              "#ed7953"
             ],
             [
              0.7777777777777778,
              "#fb9f3a"
             ],
             [
              0.8888888888888888,
              "#fdca26"
             ],
             [
              1,
              "#f0f921"
             ]
            ],
            "type": "contour"
           }
          ],
          "contourcarpet": [
           {
            "colorbar": {
             "outlinewidth": 0,
             "ticks": ""
            },
            "type": "contourcarpet"
           }
          ],
          "heatmap": [
           {
            "colorbar": {
             "outlinewidth": 0,
             "ticks": ""
            },
            "colorscale": [
             [
              0,
              "#0d0887"
             ],
             [
              0.1111111111111111,
              "#46039f"
             ],
             [
              0.2222222222222222,
              "#7201a8"
             ],
             [
              0.3333333333333333,
              "#9c179e"
             ],
             [
              0.4444444444444444,
              "#bd3786"
             ],
             [
              0.5555555555555556,
              "#d8576b"
             ],
             [
              0.6666666666666666,
              "#ed7953"
             ],
             [
              0.7777777777777778,
              "#fb9f3a"
             ],
             [
              0.8888888888888888,
              "#fdca26"
             ],
             [
              1,
              "#f0f921"
             ]
            ],
            "type": "heatmap"
           }
          ],
          "heatmapgl": [
           {
            "colorbar": {
             "outlinewidth": 0,
             "ticks": ""
            },
            "colorscale": [
             [
              0,
              "#0d0887"
             ],
             [
              0.1111111111111111,
              "#46039f"
             ],
             [
              0.2222222222222222,
              "#7201a8"
             ],
             [
              0.3333333333333333,
              "#9c179e"
             ],
             [
              0.4444444444444444,
              "#bd3786"
             ],
             [
              0.5555555555555556,
              "#d8576b"
             ],
             [
              0.6666666666666666,
              "#ed7953"
             ],
             [
              0.7777777777777778,
              "#fb9f3a"
             ],
             [
              0.8888888888888888,
              "#fdca26"
             ],
             [
              1,
              "#f0f921"
             ]
            ],
            "type": "heatmapgl"
           }
          ],
          "histogram": [
           {
            "marker": {
             "pattern": {
              "fillmode": "overlay",
              "size": 10,
              "solidity": 0.2
             }
            },
            "type": "histogram"
           }
          ],
          "histogram2d": [
           {
            "colorbar": {
             "outlinewidth": 0,
             "ticks": ""
            },
            "colorscale": [
             [
              0,
              "#0d0887"
             ],
             [
              0.1111111111111111,
              "#46039f"
             ],
             [
              0.2222222222222222,
              "#7201a8"
             ],
             [
              0.3333333333333333,
              "#9c179e"
             ],
             [
              0.4444444444444444,
              "#bd3786"
             ],
             [
              0.5555555555555556,
              "#d8576b"
             ],
             [
              0.6666666666666666,
              "#ed7953"
             ],
             [
              0.7777777777777778,
              "#fb9f3a"
             ],
             [
              0.8888888888888888,
              "#fdca26"
             ],
             [
              1,
              "#f0f921"
             ]
            ],
            "type": "histogram2d"
           }
          ],
          "histogram2dcontour": [
           {
            "colorbar": {
             "outlinewidth": 0,
             "ticks": ""
            },
            "colorscale": [
             [
              0,
              "#0d0887"
             ],
             [
              0.1111111111111111,
              "#46039f"
             ],
             [
              0.2222222222222222,
              "#7201a8"
             ],
             [
              0.3333333333333333,
              "#9c179e"
             ],
             [
              0.4444444444444444,
              "#bd3786"
             ],
             [
              0.5555555555555556,
              "#d8576b"
             ],
             [
              0.6666666666666666,
              "#ed7953"
             ],
             [
              0.7777777777777778,
              "#fb9f3a"
             ],
             [
              0.8888888888888888,
              "#fdca26"
             ],
             [
              1,
              "#f0f921"
             ]
            ],
            "type": "histogram2dcontour"
           }
          ],
          "mesh3d": [
           {
            "colorbar": {
             "outlinewidth": 0,
             "ticks": ""
            },
            "type": "mesh3d"
           }
          ],
          "parcoords": [
           {
            "line": {
             "colorbar": {
              "outlinewidth": 0,
              "ticks": ""
             }
            },
            "type": "parcoords"
           }
          ],
          "pie": [
           {
            "automargin": true,
            "type": "pie"
           }
          ],
          "scatter": [
           {
            "fillpattern": {
             "fillmode": "overlay",
             "size": 10,
             "solidity": 0.2
            },
            "type": "scatter"
           }
          ],
          "scatter3d": [
           {
            "line": {
             "colorbar": {
              "outlinewidth": 0,
              "ticks": ""
             }
            },
            "marker": {
             "colorbar": {
              "outlinewidth": 0,
              "ticks": ""
             }
            },
            "type": "scatter3d"
           }
          ],
          "scattercarpet": [
           {
            "marker": {
             "colorbar": {
              "outlinewidth": 0,
              "ticks": ""
             }
            },
            "type": "scattercarpet"
           }
          ],
          "scattergeo": [
           {
            "marker": {
             "colorbar": {
              "outlinewidth": 0,
              "ticks": ""
             }
            },
            "type": "scattergeo"
           }
          ],
          "scattergl": [
           {
            "marker": {
             "colorbar": {
              "outlinewidth": 0,
              "ticks": ""
             }
            },
            "type": "scattergl"
           }
          ],
          "scattermapbox": [
           {
            "marker": {
             "colorbar": {
              "outlinewidth": 0,
              "ticks": ""
             }
            },
            "type": "scattermapbox"
           }
          ],
          "scatterpolar": [
           {
            "marker": {
             "colorbar": {
              "outlinewidth": 0,
              "ticks": ""
             }
            },
            "type": "scatterpolar"
           }
          ],
          "scatterpolargl": [
           {
            "marker": {
             "colorbar": {
              "outlinewidth": 0,
              "ticks": ""
             }
            },
            "type": "scatterpolargl"
           }
          ],
          "scatterternary": [
           {
            "marker": {
             "colorbar": {
              "outlinewidth": 0,
              "ticks": ""
             }
            },
            "type": "scatterternary"
           }
          ],
          "surface": [
           {
            "colorbar": {
             "outlinewidth": 0,
             "ticks": ""
            },
            "colorscale": [
             [
              0,
              "#0d0887"
             ],
             [
              0.1111111111111111,
              "#46039f"
             ],
             [
              0.2222222222222222,
              "#7201a8"
             ],
             [
              0.3333333333333333,
              "#9c179e"
             ],
             [
              0.4444444444444444,
              "#bd3786"
             ],
             [
              0.5555555555555556,
              "#d8576b"
             ],
             [
              0.6666666666666666,
              "#ed7953"
             ],
             [
              0.7777777777777778,
              "#fb9f3a"
             ],
             [
              0.8888888888888888,
              "#fdca26"
             ],
             [
              1,
              "#f0f921"
             ]
            ],
            "type": "surface"
           }
          ],
          "table": [
           {
            "cells": {
             "fill": {
              "color": "#EBF0F8"
             },
             "line": {
              "color": "white"
             }
            },
            "header": {
             "fill": {
              "color": "#C8D4E3"
             },
             "line": {
              "color": "white"
             }
            },
            "type": "table"
           }
          ]
         },
         "layout": {
          "annotationdefaults": {
           "arrowcolor": "#2a3f5f",
           "arrowhead": 0,
           "arrowwidth": 1
          },
          "autotypenumbers": "strict",
          "coloraxis": {
           "colorbar": {
            "outlinewidth": 0,
            "ticks": ""
           }
          },
          "colorscale": {
           "diverging": [
            [
             0,
             "#8e0152"
            ],
            [
             0.1,
             "#c51b7d"
            ],
            [
             0.2,
             "#de77ae"
            ],
            [
             0.3,
             "#f1b6da"
            ],
            [
             0.4,
             "#fde0ef"
            ],
            [
             0.5,
             "#f7f7f7"
            ],
            [
             0.6,
             "#e6f5d0"
            ],
            [
             0.7,
             "#b8e186"
            ],
            [
             0.8,
             "#7fbc41"
            ],
            [
             0.9,
             "#4d9221"
            ],
            [
             1,
             "#276419"
            ]
           ],
           "sequential": [
            [
             0,
             "#0d0887"
            ],
            [
             0.1111111111111111,
             "#46039f"
            ],
            [
             0.2222222222222222,
             "#7201a8"
            ],
            [
             0.3333333333333333,
             "#9c179e"
            ],
            [
             0.4444444444444444,
             "#bd3786"
            ],
            [
             0.5555555555555556,
             "#d8576b"
            ],
            [
             0.6666666666666666,
             "#ed7953"
            ],
            [
             0.7777777777777778,
             "#fb9f3a"
            ],
            [
             0.8888888888888888,
             "#fdca26"
            ],
            [
             1,
             "#f0f921"
            ]
           ],
           "sequentialminus": [
            [
             0,
             "#0d0887"
            ],
            [
             0.1111111111111111,
             "#46039f"
            ],
            [
             0.2222222222222222,
             "#7201a8"
            ],
            [
             0.3333333333333333,
             "#9c179e"
            ],
            [
             0.4444444444444444,
             "#bd3786"
            ],
            [
             0.5555555555555556,
             "#d8576b"
            ],
            [
             0.6666666666666666,
             "#ed7953"
            ],
            [
             0.7777777777777778,
             "#fb9f3a"
            ],
            [
             0.8888888888888888,
             "#fdca26"
            ],
            [
             1,
             "#f0f921"
            ]
           ]
          },
          "colorway": [
           "#636efa",
           "#EF553B",
           "#00cc96",
           "#ab63fa",
           "#FFA15A",
           "#19d3f3",
           "#FF6692",
           "#B6E880",
           "#FF97FF",
           "#FECB52"
          ],
          "font": {
           "color": "#2a3f5f"
          },
          "geo": {
           "bgcolor": "white",
           "lakecolor": "white",
           "landcolor": "#E5ECF6",
           "showlakes": true,
           "showland": true,
           "subunitcolor": "white"
          },
          "hoverlabel": {
           "align": "left"
          },
          "hovermode": "closest",
          "mapbox": {
           "style": "light"
          },
          "paper_bgcolor": "white",
          "plot_bgcolor": "#E5ECF6",
          "polar": {
           "angularaxis": {
            "gridcolor": "white",
            "linecolor": "white",
            "ticks": ""
           },
           "bgcolor": "#E5ECF6",
           "radialaxis": {
            "gridcolor": "white",
            "linecolor": "white",
            "ticks": ""
           }
          },
          "scene": {
           "xaxis": {
            "backgroundcolor": "#E5ECF6",
            "gridcolor": "white",
            "gridwidth": 2,
            "linecolor": "white",
            "showbackground": true,
            "ticks": "",
            "zerolinecolor": "white"
           },
           "yaxis": {
            "backgroundcolor": "#E5ECF6",
            "gridcolor": "white",
            "gridwidth": 2,
            "linecolor": "white",
            "showbackground": true,
            "ticks": "",
            "zerolinecolor": "white"
           },
           "zaxis": {
            "backgroundcolor": "#E5ECF6",
            "gridcolor": "white",
            "gridwidth": 2,
            "linecolor": "white",
            "showbackground": true,
            "ticks": "",
            "zerolinecolor": "white"
           }
          },
          "shapedefaults": {
           "line": {
            "color": "#2a3f5f"
           }
          },
          "ternary": {
           "aaxis": {
            "gridcolor": "white",
            "linecolor": "white",
            "ticks": ""
           },
           "baxis": {
            "gridcolor": "white",
            "linecolor": "white",
            "ticks": ""
           },
           "bgcolor": "#E5ECF6",
           "caxis": {
            "gridcolor": "white",
            "linecolor": "white",
            "ticks": ""
           }
          },
          "title": {
           "x": 0.05
          },
          "xaxis": {
           "automargin": true,
           "gridcolor": "white",
           "linecolor": "white",
           "ticks": "",
           "title": {
            "standoff": 15
           },
           "zerolinecolor": "white",
           "zerolinewidth": 2
          },
          "yaxis": {
           "automargin": true,
           "gridcolor": "white",
           "linecolor": "white",
           "ticks": "",
           "title": {
            "standoff": 15
           },
           "zerolinecolor": "white",
           "zerolinewidth": 2
          }
         }
        },
        "title": {
         "text": "generate_mean_diff: ID: ['0', '1', '2', '3', '4', '5', '6', '7', '8', '9', '10', '11', '12'], Type: 1, Level: 4"
        },
        "xaxis": {
         "anchor": "y",
         "domain": [
          0,
          1
         ],
         "title": {
          "text": "Mean (mm³)"
         }
        },
        "yaxis": {
         "anchor": "x",
         "domain": [
          0,
          1
         ],
         "title": {
          "text": "Difference (mm³)"
         }
        }
       }
      }
     },
     "metadata": {},
     "output_type": "display_data"
    }
   ],
   "source": [
    "page = pn.template.BootstrapTemplate(\n",
    "    title='MRICloudPy',\n",
    "    sidebar=[side_col],\n",
    ")\n",
    "\n",
    "page.main.append(\n",
    "    pn.Column(main_col)\n",
    ")\n",
    "\n",
    "page.show()"
   ]
  }
 ],
 "metadata": {
  "kernelspec": {
   "display_name": "Python 3",
   "language": "python",
   "name": "python3"
  },
  "language_info": {
   "codemirror_mode": {
    "name": "ipython",
    "version": 3
   },
   "file_extension": ".py",
   "mimetype": "text/x-python",
   "name": "python",
   "nbconvert_exporter": "python",
   "pygments_lexer": "ipython3",
   "version": "3.10.11"
  },
  "orig_nbformat": 4
 },
 "nbformat": 4,
 "nbformat_minor": 2
}
